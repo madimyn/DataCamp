{
 "cells": [
  {
   "cell_type": "code",
   "execution_count": 73,
   "metadata": {},
   "outputs": [],
   "source": [
    "import matplotlib.pyplot as plt\n",
    "import numpy as np\n",
    "import pandas as pd\n",
    "\n",
    "df = pd.read_csv('data.csv', delimiter='\\t')\n",
    "df['PERIOD'] = pd.to_datetime(df['PERIOD'], format='%Y%m').dt.strftime('%Y-%m')\n"
   ]
  },
  {
   "cell_type": "code",
   "execution_count": 66,
   "metadata": {},
   "outputs": [
    {
     "data": {
      "image/png": "[encoded data removed]",
      "text/plain": [
       "<Figure size 640x480 with 1 Axes>"
      ]
     },
     "metadata": {},
     "output_type": "display_data"
    }
   ],
   "source": [
    "plt.hist(df['VAL'], bins=50)\n",
    "\n",
    "plt.title('Plot')\n",
    "plt.xlabel('smth')\n",
    "plt.ylabel('Value')\n",
    "plt.yticks([0, 20, 40, 60, 80], ['0', '20 mil', '40 mil', '60 mil', '80 mil'])\n",
    "plt.xticks([])\n",
    "plt.show()"
   ]
  },
  {
   "cell_type": "code",
   "execution_count": null,
   "metadata": {},
   "outputs": [
    {
     "name": "stdout",
     "output_type": "stream",
     "text": [
      "Madi\n",
      "1\n",
      "1\n"
     ]
    },
    {
     "data": {
      "image/png": "[encoded data removed]",
      "text/plain": [
       "<Figure size 640x480 with 1 Axes>"
      ]
     },
     "metadata": {},
     "output_type": "display_data"
    }
   ],
   "source": [
    "a = ['a', 'b', 'c']\n",
    "b = [1, 2, 3]\n",
    "d = {'a': 1, 'b': 2, 'c': 3}\n",
    "dd = {'Student' : {'name' : 'Madi', 'age' : 21}, 'Professor' : {'name' : 'Xavier', 'age' : 26}}\n",
    "\n",
    "ind_a = a.index('a')\n",
    "\n",
    "print(dd['Student']['name'])\n",
    "print(b[ind_a])\n",
    "print(d['a'])\n",
    "\n",
    "plt.hist(d.values())\n",
    "plt.show()"
   ]
  },
  {
   "cell_type": "code",
   "execution_count": 87,
   "metadata": {},
   "outputs": [
    {
     "data": {
      "text/plain": [
       "'This is __doc__ documentation of the function!'"
      ]
     },
     "execution_count": 87,
     "metadata": {},
     "output_type": "execute_result"
    }
   ],
   "source": [
    "def func():\n",
    "    \"\"\"This is __doc__ documentation of the function!\"\"\"\n",
    "    return 0\n",
    "\n",
    "func.__doc__"
   ]
  },
  {
   "cell_type": "code",
   "execution_count": 5,
   "metadata": {},
   "outputs": [
    {
     "name": "stdout",
     "output_type": "stream",
     "text": [
      "           country  drives_right  cars_per_cap\n",
      "US   United States          True           809\n",
      "AUS      Australia         False           731\n",
      "JPN          Japan         False           588\n",
      "IN           India         False            18\n",
      "RU          Russia          True           200\n",
      "MOR        Morocco          True            70\n",
      "EG           Egypt          True            45\n"
     ]
    }
   ],
   "source": [
    "import pandas as pd\n",
    "\n",
    "# Build cars DataFrame\n",
    "names = ['United States', 'Australia', 'Japan', 'India', 'Russia', 'Morocco', 'Egypt']\n",
    "dr =  [True, False, False, False, True, True, True]\n",
    "cpc = [809, 731, 588, 18, 200, 70, 45]\n",
    "cars_dict = { 'country':names, 'drives_right':dr, 'cars_per_cap':cpc }\n",
    "cars = pd.DataFrame(cars_dict)\n",
    "\n",
    "# Definition of row_labels\n",
    "row_labels = ['US', 'AUS', 'JPN', 'IN', 'RU', 'MOR', 'EG']\n",
    "\n",
    "# Specify row labels of cars\n",
    "cars.index = row_labels\n",
    "print(cars)"
   ]
  },
  {
   "cell_type": "code",
   "execution_count": 115,
   "metadata": {},
   "outputs": [
    {
     "name": "stdout",
     "output_type": "stream",
     "text": [
      "           country\n",
      "US   United States\n",
      "AUS      Australia\n",
      "JPN          Japan\n",
      "IN           India\n",
      "RU          Russia\n",
      "MOR        Morocco\n",
      "EG           Egypt\n"
     ]
    }
   ],
   "source": [
    "print(cars[['country']]) ######     print(cars['country'])\n"
   ]
  },
  {
   "cell_type": "code",
   "execution_count": 116,
   "metadata": {},
   "outputs": [
    {
     "name": "stdout",
     "output_type": "stream",
     "text": [
      "           country  drives_right\n",
      "US   United States          True\n",
      "AUS      Australia         False\n",
      "JPN          Japan         False\n",
      "IN           India         False\n",
      "RU          Russia          True\n",
      "MOR        Morocco          True\n",
      "EG           Egypt          True\n"
     ]
    }
   ],
   "source": [
    "print(cars.loc[:, ['country', 'drives_right']]) #######     print(cars.iloc[:, [0, 1]]"
   ]
  },
  {
   "cell_type": "code",
   "execution_count": 119,
   "metadata": {},
   "outputs": [
    {
     "name": "stdout",
     "output_type": "stream",
     "text": [
      "     country  drives_right  cars_per_cap\n",
      "IN     India         False            18\n",
      "MOR  Morocco          True            70\n",
      "EG     Egypt          True            45\n"
     ]
    }
   ],
   "source": [
    "print(cars[cars['cars_per_cap'] < 200])"
   ]
  },
  {
   "cell_type": "code",
   "execution_count": 124,
   "metadata": {},
   "outputs": [
    {
     "name": "stdout",
     "output_type": "stream",
     "text": [
      "     country  drives_right  cars_per_cap\n",
      "MOR  Morocco          True            70\n",
      "EG     Egypt          True            45\n"
     ]
    }
   ],
   "source": [
    "print(cars[np.logical_and(cars['cars_per_cap'] > 30, cars['cars_per_cap'] < 100)])"
   ]
  },
  {
   "cell_type": "code",
   "execution_count": 112,
   "metadata": {},
   "outputs": [
    {
     "name": "stdout",
     "output_type": "stream",
     "text": [
      "False\n",
      "True\n"
     ]
    }
   ],
   "source": [
    "x = 5\n",
    "print(np.logical_and(x > 10, x > 0))\n",
    "print(np.logical_or(x > 10, x > 0))"
   ]
  },
  {
   "cell_type": "code",
   "execution_count": 127,
   "metadata": {},
   "outputs": [
    {
     "name": "stdout",
     "output_type": "stream",
     "text": [
      "US     13\n",
      "AUS     9\n",
      "JPN     5\n",
      "IN      5\n",
      "RU      6\n",
      "MOR     7\n",
      "EG      5\n",
      "Name: name_length, dtype: int64\n"
     ]
    }
   ],
   "source": [
    "cars['name_length'] = cars['country'].apply(len)\n",
    "print(cars['name_length'])"
   ]
  },
  {
   "cell_type": "code",
   "execution_count": 141,
   "metadata": {},
   "outputs": [
    {
     "name": "stdout",
     "output_type": "stream",
     "text": [
      "[3, 6, 4, 5, 4, 5, 3, 5, 4, 6, 6, 8, 6, 4, 7, 5, 7, 4, 3, 3, 4, 5, 8, 5, 6, 5, 7, 6, 4, 5, 8, 5, 8, 4, 6, 6, 3, 4, 5, 4, 7, 8, 9, 4, 3, 4, 5, 6, 4, 2, 6, 6, 5, 7, 5, 4, 5, 5, 6, 7, 6, 6, 6, 3, 6, 3, 6, 5, 6, 5, 6, 4, 6, 6, 3, 4, 4, 2, 4, 5, 4, 6, 6, 6, 8, 4, 6, 5, 7, 4, 6, 5, 4, 6, 7, 3, 7, 4, 5, 7, 8, 7, 5, 6, 7, 6, 5, 7, 5, 4, 7, 5, 4, 8, 4, 5, 6, 6, 6, 5, 5, 7, 3, 7, 6, 3, 6, 7, 2, 2, 5, 5, 4, 5, 7, 3, 3, 5, 6, 5, 6, 6, 3, 5, 4, 2, 5, 5, 7, 4, 3, 6, 2, 6, 6, 9, 6, 4, 8, 6, 6, 7, 3, 5, 3, 5, 6, 4, 4, 4, 3, 4, 4, 5, 5, 3, 8, 3, 5, 5, 6, 3, 5, 5, 4, 7, 4, 4, 5, 4, 3, 4, 5, 5, 4, 6, 4, 6, 6, 6, 8, 6, 5, 4, 6, 8, 7, 6, 7, 5, 3, 4, 7, 2, 5, 4, 5, 6, 6, 5, 6, 3, 4, 7, 4, 5, 3, 3, 4, 4, 5, 6, 5, 4, 3, 4, 6, 4, 6, 7, 4, 3, 4, 5, 6, 2, 6, 5, 5, 3, 6, 6, 4, 5, 3, 3, 6, 5, 5, 3, 5, 5, 5, 3, 4, 5, 3, 5, 9, 6, 4, 6, 3, 6, 7, 4, 4, 8, 5, 7, 5, 5, 6, 4, 6, 7, 6, 6, 6, 5, 3, 5, 5, 3, 7, 5, 3, 4, 4, 6, 5, 6, 6, 3, 6, 3, 3, 9, 5, 3, 6, 4, 5, 1, 3, 3, 5, 5, 4, 5, 1, 5, 6, 6, 4, 3, 7, 7, 4, 5, 3, 6, 5, 4, 4, 7, 2, 6, 5, 5, 4, 3, 5, 4, 5, 6, 7, 4, 3, 8, 4, 4, 4, 5, 3, 3, 5, 5, 6, 2, 4, 6, 5, 4, 3, 3, 6, 4, 3, 7, 5, 5, 4, 4, 5, 5, 5, 4, 6, 7, 7, 6, 2, 6, 5, 7, 8, 6, 4, 6, 3, 5, 6, 7, 4, 4, 6, 6, 5, 8, 6, 5, 5, 6, 2, 6, 6, 3, 3, 4, 5, 3, 5, 4, 5, 5, 6, 4, 4, 7, 5, 4, 6, 3, 6, 6, 4, 4, 6, 6, 2, 5, 6, 8, 7, 2, 5, 5, 5, 3, 4, 5, 3, 8, 5, 6, 5, 5, 8, 8, 7, 6, 5, 5, 5, 4, 6, 4, 2, 3, 7, 7, 4, 6, 1, 6, 4, 5, 6, 5, 5, 4, 5, 4, 4, 5, 2, 5, 3, 5, 4, 4, 2, 4, 1, 3, 7, 5, 4, 5, 3, 5, 4, 3, 7, 5, 7, 6, 4, 3, 4, 4, 5, 7, 5, 5, 4, 5, 7, 7, 8, 3, 7, 6, 5, 3, 5, 6, 4, 6, 6, 5, 3, 4, 7, 5, 8, 3, 3, 7, 4, 5, 7, 7, 4, 7, 4, 5, 3, 6, 5, 6, 4, 6, 5, 3, 5, 4, 5, 6, 1, 4, 3, 4, 4, 4, 4, 7, 7, 5, 6, 5, 4, 4, 7, 4, 4, 4, 5, 4, 2, 4, 7, 4, 10, 4, 9, 5, 6, 6, 7, 5, 5, 2, 5, 5, 7, 4, 5, 7, 3, 5, 6, 5, 5, 5, 6, 8, 4, 5, 4, 5, 4, 6, 4, 3, 6, 6, 4, 7, 7, 3, 4, 4, 6, 6, 5, 7, 7, 2, 4, 4, 3, 5, 6, 4, 6, 2, 6, 3, 6, 7, 5, 6, 3, 6, 5, 3, 7, 5, 4, 5, 7, 4, 4, 3, 3, 5, 5, 5, 5, 6, 6, 5, 4, 7, 4, 4, 6, 5, 6, 8, 9, 6, 3, 5, 6, 4, 2, 5, 7, 5, 8, 9, 2, 3, 2, 5, 7, 6, 4, 2, 5, 5, 7, 4, 6, 6, 6, 7, 6, 4, 7, 2, 5, 3, 5, 6, 5, 5, 1, 8, 4, 8, 5, 4, 5, 3, 4, 3, 3, 5, 5, 5, 7, 3, 5, 4, 5, 8, 6, 4, 7, 8, 7, 6, 6, 3, 3, 6, 4, 5, 6, 4, 4, 5, 3, 7, 4, 3, 4, 5, 7, 3, 9, 4, 4, 5, 6, 7, 3, 3, 6, 4, 4, 7, 5, 8, 3, 4, 6, 4, 5, 4, 5, 5, 7, 7, 3, 2, 5, 7, 6, 6, 7, 5, 7, 5, 8, 5, 4, 7, 7, 3, 6, 6, 7, 5, 3, 7, 7, 3, 4, 7, 3, 5, 3, 2, 6, 5, 7, 3, 5, 2, 4, 2, 6, 5, 3, 6, 7, 3, 6, 0, 4, 3, 4, 3, 7, 6, 3, 2, 6, 4, 4, 4, 3, 4, 3, 6, 7, 7, 5, 6, 7, 2, 6, 5, 4, 6, 4, 5, 4, 8, 4, 5, 4, 4, 4, 5, 3, 6, 3, 3, 8, 5, 6, 5, 5, 4, 5, 4, 5, 6, 7, 7, 5, 8, 6, 6, 6, 3, 5, 6, 4, 5, 4, 4, 7, 6, 5, 4, 8, 5, 4, 6, 5, 6, 7, 5, 8, 7, 3, 2, 3, 6, 7, 7, 5, 3, 3, 9, 3, 3, 2, 6, 5, 6, 6, 6, 4, 4, 4, 4, 4, 6, 7, 4, 4, 7, 7, 3, 4, 5, 3, 2, 6, 7, 5, 8, 4, 7, 2, 5, 5, 4, 6, 3, 3, 5, 4, 4, 7, 5, 5, 4, 6, 3, 5, 5, 6, 3, 6, 4, 5, 4, 6, 4, 4, 6, 6, 7, 3, 5, 2, 6, 6, 4, 6, 4, 5, 3, 6, 4, 8, 8, 5, 5, 4, 2, 7, 4, 7, 6, 3, 2, 5, 7, 5, 6, 4, 5, 7, 6, 3, 5, 4, 5, 7, 7, 3, 4, 8, 8, 7, 5, 5, 7, 5, 6, 7, 7, 5, 7, 6, 9, 3, 5, 5, 3, 6, 6, 4, 6, 6, 3, 5, 5, 7, 1, 5, 4, 5, 5, 4, 7, 6, 1, 7, 3, 6, 6, 6, 6, 4, 7, 5, 4, 7, 4, 4, 5, 4, 6, 7, 7, 5, 5, 5, 7, 4, 5, 5, 3, 2, 1, 6, 6, 3, 7, 8, 4, 3, 7, 2, 4, 7, 8, 3, 4, 4, 4, 5, 6, 7, 4, 6, 5, 6, 6, 7, 7, 6, 5, 2, 4, 6, 5, 6, 2, 5, 3, 5, 5, 4, 6, 7, 4, 2, 6, 5, 7, 5, 3, 4, 3, 4, 5, 5, 2, 7, 6, 5, 6, 5, 7, 6, 2, 4, 8, 4, 4, 5, 6, 5, 4, 8, 4, 6, 5, 2, 9, 4, 4, 7, 7, 3, 4, 4, 6, 7, 7, 3, 4, 1, 3, 4, 4, 4, 2, 1, 6, 5, 7, 3, 6, 6, 8, 2, 3, 6, 5, 7, 6, 3, 4, 3, 6, 5, 4, 7, 2, 3, 6, 3, 8, 8, 7, 3, 5, 6, 5, 4, 9, 3, 5, 4, 6, 4, 4, 4, 5, 6, 6, 4, 6, 7, 5, 2, 5, 4, 7, 2, 6, 5, 5, 4, 6, 3, 3, 3, 5, 5, 5, 8, 6, 6, 3, 3, 5, 6, 6, 6, 4, 6, 4, 5, 4, 6, 7, 4, 7, 5, 3, 4, 4, 6, 5, 5, 3, 5, 4, 4, 5, 5, 6, 4, 6, 2, 5, 5, 6, 5, 7, 4, 4, 6, 4, 6, 5, 6, 3, 4, 5, 5, 7, 6, 4, 3, 6, 6, 1, 6, 8, 7, 6, 2, 5, 5, 6, 6, 6, 5, 6, 4, 5, 2, 5, 5, 6, 3, 4, 7, 5, 4, 7, 6, 5, 5, 4, 7, 5, 4, 7, 7, 3, 6, 2, 6, 8, 2, 3, 7, 6, 3, 3, 6, 6, 4, 2, 4, 6, 5, 6, 9, 4, 4, 5, 5, 3, 5, 4, 3, 5, 8, 4, 5, 8, 6, 5, 3, 8, 6, 4, 3, 4, 4, 6, 6, 4, 4, 6, 4, 5, 4, 5, 5, 4, 5, 5, 5, 5, 5, 4, 4, 5, 4, 4, 5, 4, 5, 4, 6, 7, 6, 6, 4, 5, 1, 5, 5, 8, 3, 5, 4, 6, 2, 5, 5, 9, 5, 6, 5, 6, 6, 6, 5, 6, 5, 5, 6, 4, 6, 5, 7, 5, 6, 6, 4, 2, 7, 5, 3, 5, 5, 6, 4, 5, 6, 8, 4, 8, 4, 3, 6, 5, 5, 4, 3, 5, 3, 3, 3, 5, 7, 4, 3, 5, 4, 5, 6, 8, 5, 4, 4, 5, 7, 5, 7, 3, 3, 4, 4, 5, 4, 6, 6, 6, 5, 4, 2, 4, 8, 2, 6, 4, 6, 6, 6, 4, 4, 3, 5, 2, 6, 3, 6, 6, 7, 6, 3, 2, 5, 6, 4, 5, 5, 5, 5, 5, 6, 3, 5, 5, 6, 4, 5, 9, 5, 4, 2, 8, 3, 6, 3, 4, 7, 7, 5, 5, 7, 3, 2, 2, 4, 6, 4, 5, 6, 5, 7, 7, 5, 3, 4, 6, 7, 3, 6, 5, 4, 6, 4, 5, 6, 6, 5, 4, 4, 5, 2, 5, 4, 3, 4, 8, 7, 2, 5, 4, 3, 4, 6, 6, 5, 7, 4, 5, 2, 7, 3, 4, 7, 4, 3, 5, 6, 5, 6, 8, 5, 5, 5, 7, 5, 1, 7, 6, 2, 4, 5, 7, 5, 4, 4, 6, 2, 4, 7, 7, 3, 5, 8, 6, 6, 6, 3, 7, 5, 5, 6, 5, 6, 4, 5, 2, 5, 5, 3, 6, 6, 2, 4, 5, 7, 6, 6, 6, 3, 6, 7, 6, 5, 8, 4, 4, 5, 3, 6, 4, 4, 4, 4, 2, 6, 1, 6, 5, 5, 3, 3, 4, 3, 4, 8, 5, 5, 5, 3, 5, 6, 5, 5, 5, 4, 4, 6, 4, 6, 6, 7, 5, 8, 4, 6, 6, 6, 8, 5, 4, 10, 6, 4, 4, 2, 6, 5, 4, 6, 6, 2, 3, 6, 6, 2, 5, 3, 6, 7, 5, 2, 3, 6, 6, 5, 5, 4, 5, 5, 4, 5, 4, 5, 5, 6, 4, 3, 6, 5, 4, 5, 5, 5, 3, 6, 6, 7, 5, 3, 4, 3, 5, 4, 5, 8, 6, 5, 4, 5, 6, 7, 6, 4, 7, 4, 5, 7, 4, 6, 5, 5, 2, 6, 7, 6, 3, 2, 3, 7, 2, 4, 7, 5, 6, 5, 5, 7, 6, 5, 4, 6, 3, 4, 4, 4, 3, 4, 7, 6, 6, 4, 5, 8, 6, 5, 7, 5, 8, 5, 6, 7, 6, 4, 6, 5, 2, 5, 7, 6, 4, 4, 3, 3, 4, 2, 5, 5, 5, 5, 8, 2, 3, 2, 2, 6, 5, 8, 6, 5, 7, 4, 4, 5, 4, 5, 5, 8, 6, 2, 3, 6, 3, 3, 5, 3, 6, 7, 4, 8, 4, 1, 7, 5, 6, 4, 6, 5, 3, 7, 7, 2, 7, 6, 5, 6, 3, 5, 7, 6, 5, 3, 5, 5, 4, 6, 6, 5, 3, 8, 6, 6, 5, 5, 6, 4, 4, 6, 0, 6, 7, 4, 6, 3, 6, 5, 4, 6, 4, 5, 5, 3, 5, 5, 2, 6, 4, 6, 6, 5, 3, 4, 2, 4, 4, 3, 4, 4, 3, 6, 7, 7, 5, 4, 4, 5, 5, 6, 6, 6, 4, 7, 4, 8, 5, 5, 4, 8, 4, 5, 2, 9, 5, 5, 8, 7, 4, 3, 4, 4, 2, 5, 6, 6, 5, 5, 6, 4, 2, 3, 7, 5, 3, 7, 4, 3, 6, 5, 5, 7, 6, 5, 6, 5, 4, 4, 2, 5, 4, 4, 5, 4, 4, 5, 6, 7, 4, 6, 8, 5, 6, 8, 6, 7, 8, 7, 7, 6, 6, 4, 7, 7, 4, 5, 3, 7, 2, 7, 4, 5, 6, 4, 5, 3, 5, 6, 6, 7, 4, 5, 6, 2, 7, 4, 5, 6, 1, 5, 7, 6, 4, 5, 1, 4, 5, 7, 7, 5, 3, 4, 4, 6, 6, 3, 3, 6, 6, 4, 5, 5, 7, 4, 8, 4, 6, 6, 8, 5, 5, 5, 6, 6, 5, 4, 3, 6, 7, 3, 7, 3, 5, 5, 8, 5, 6, 7, 5, 5, 5, 4, 6, 6, 6, 4, 7, 5, 8, 6, 4, 7, 1, 6, 9, 2, 4, 3, 4, 5, 7, 7, 6, 7, 6, 4, 5, 5, 8, 3, 7, 8, 3, 5, 4, 5, 4, 3, 2, 7, 4, 3, 7, 9, 7, 8, 4, 5, 5, 8, 7, 1, 4, 7, 6, 7, 5, 6, 5, 4, 5, 4, 5, 4, 5, 6, 5, 4, 6, 8, 5, 5, 7, 7, 5, 6, 8, 5, 4, 4, 5, 5, 5, 4, 2, 4, 5, 3, 7, 6, 8, 7, 5, 7, 7, 4, 5, 6, 5, 7, 5, 7, 6, 5, 4, 5, 4, 7, 5, 5, 6, 4, 5, 2, 7, 4, 2, 3, 2, 6, 4, 6, 5, 2, 7, 5, 5, 7, 6, 7, 7, 5, 5, 4, 6, 5, 4, 5, 5, 6, 5, 6, 5, 4, 4, 4, 5, 3, 5, 5, 6, 8, 5, 5, 3, 7, 5, 1, 3, 7, 7, 7, 5, 5, 6, 6, 3, 7, 2, 3, 3, 5, 4, 3, 4, 6, 4, 3, 5, 7, 7, 5, 6, 4, 4, 7, 7, 7, 6, 4, 3, 7, 6, 4, 4, 3, 5, 5, 7, 7, 4, 6, 3, 4, 3, 5, 5, 2, 3, 2, 4, 6, 6, 4, 6, 4, 6, 6, 2, 3, 4, 5, 7, 3, 8, 7, 3, 8, 4, 6, 3, 6, 5, 5, 6, 5, 5, 3, 5, 5, 4, 4, 6, 5, 7, 4, 8, 8, 4, 6, 5, 4, 6, 5, 5, 3, 2, 5, 5, 7, 4, 9, 6, 5, 5, 4, 2, 5, 3, 4, 5, 9, 3, 4, 5, 6, 5, 5, 5, 2, 5, 4, 5, 3, 3, 3, 4, 4, 7, 5, 5, 6, 6, 5, 5, 4, 8, 5, 4, 6, 4, 4, 5, 4, 3, 4, 6, 4, 4, 4, 2, 3, 4, 3, 5, 4, 6, 3, 7, 4, 6, 5, 4, 5, 6, 7, 6, 7, 4, 6, 7, 4, 3, 4, 3, 4, 7, 7, 9, 4, 8, 4, 1, 5, 4, 5, 8, 4, 7, 2, 3, 6, 4, 6, 4, 4, 2, 5, 8, 3, 6, 4, 3, 4, 5, 5, 4, 4, 5, 2, 4, 4, 4, 5, 6, 1, 7, 3, 5, 6, 8, 7, 7, 2, 9, 8, 3, 5, 3, 6, 4, 6, 5, 3, 4, 5, 4, 3, 5, 3, 2, 4, 4, 4, 6, 4, 4, 6, 8, 7, 5, 4, 5, 5, 5, 5, 6, 6, 4, 6, 5, 4, 5, 5, 7, 6, 3, 3, 2, 2, 5, 5, 4, 5, 4, 4, 4, 4, 4, 7, 6, 4, 8, 7, 2, 5, 5, 8, 4, 2, 5, 6, 7, 4, 5, 6, 3, 4, 5, 6, 4, 4, 5, 5, 3, 6, 5, 4, 4, 7, 5, 5, 6, 5, 5, 5, 5, 5, 6, 5, 3, 7, 5, 4, 5, 3, 4, 7, 3, 6, 5, 7, 4, 7, 5, 3, 5, 4, 9, 7, 7, 5, 5, 5, 5, 5, 6, 8, 5, 1, 7, 6, 7, 3, 7, 4, 6, 6, 6, 3, 4, 6, 8, 2, 7, 6, 3, 4, 3, 6, 6, 4, 5, 4, 5, 4, 3, 6, 5, 8, 4, 5, 5, 5, 7, 6, 5, 3, 4, 3, 5, 7, 4, 4, 6, 8, 7, 5, 5, 4, 5, 6, 6, 1, 8, 6, 2, 4, 5, 6, 3, 6, 7, 8, 7, 6, 6, 4, 2, 6, 5, 4, 3, 2, 4, 2, 6, 2, 4, 4, 2, 7, 4, 7, 5, 4, 5, 6, 3, 7, 4, 4, 4, 5, 3, 3, 7, 3, 5, 4, 5, 6, 6, 6, 5, 1, 4, 8, 5, 4, 6, 4, 4, 6, 6, 8, 4, 5, 5, 7, 5, 5, 7, 5, 6, 6, 5, 5, 6, 7, 7, 6, 3, 4, 6, 7, 5, 4, 6, 5, 6, 5, 5, 6, 7, 3, 2, 7, 6, 3, 5, 7, 5, 5, 6, 9, 5, 5, 6, 3, 6, 5, 6, 6, 6, 7, 3, 4, 4, 5, 4, 6, 4, 7, 5, 4, 8, 3, 6, 5, 5, 8, 4, 5, 6, 4, 5, 4, 7, 4, 7, 5, 6, 5, 7, 8, 4, 4, 3, 6, 6, 7, 6, 5, 5, 7, 6, 6, 7, 6, 8, 6, 6, 9, 7, 6, 5, 4, 5, 5, 5, 8, 5, 4, 4, 3, 3, 6, 6, 5, 5, 8, 6, 6, 3, 4, 3, 5, 5, 5, 6, 8, 4, 6, 5, 6, 5, 5, 7, 4, 7, 6, 6, 4, 3, 8, 6, 2, 7, 3, 3, 5, 6, 6, 5, 3, 6, 8, 3, 3, 4, 4, 3, 3, 3, 5, 3, 3, 4, 6, 6, 5, 3, 7, 4, 5, 6, 4, 4, 7, 6, 4, 5, 5, 7, 8, 4, 8, 3, 4, 3, 5, 6, 2, 6, 4, 5, 4, 5, 5, 3, 6, 3, 6, 7, 3, 8, 5, 5, 4, 4, 6, 6, 4, 6, 6, 4, 2, 5, 4, 5, 3, 4, 6, 6, 4, 7, 4, 4, 4, 5, 5, 4, 8, 5, 6, 7, 4, 4, 4, 5, 6, 7, 7, 5, 7, 4, 4, 4, 5, 3, 4, 5, 5, 6, 2, 5, 3, 9, 8, 6, 4, 5, 3, 3, 7, 5, 1, 3, 4, 7, 2, 4, 4, 6, 5, 5, 6, 5, 3, 7, 5, 5, 8, 4, 5, 6, 3, 2, 7, 3, 6, 4, 4, 3, 4, 6, 6, 5, 3, 3, 4, 6, 6, 7, 5, 6, 6, 4, 5, 6, 6, 8, 4, 4, 4, 6, 3, 3, 6, 4, 4, 2, 5, 5, 5, 2, 5, 3, 7, 8, 5, 5, 7, 3, 2, 7, 5, 6, 6, 4, 6, 5, 5, 4, 5, 4, 6, 6, 5, 2, 9, 5, 6, 7, 5, 5, 7, 7, 4, 6, 4, 6, 8, 6, 5, 6, 3, 6, 6, 6, 4, 6, 8, 2, 4, 3, 8, 7, 6, 3, 6, 5, 6, 3, 6, 3, 6, 4, 4, 6, 5, 6, 5, 4, 3, 5, 4, 7, 6, 6, 3, 6, 7, 7, 3, 3, 6, 2, 4, 3, 3, 2, 5, 5, 4, 4, 5, 7, 3, 5, 4, 5, 6, 6, 5, 7, 6, 5, 6, 7, 4, 5, 6, 5, 3, 6, 7, 5, 3, 3, 6, 4, 5, 4, 3, 4, 5, 5, 5, 3, 4, 7, 5, 4, 8, 3, 6, 3, 4, 5, 7, 3, 6, 5, 5, 6, 7, 7, 6, 5, 4, 3, 5, 3, 5, 3, 3, 6, 3, 3, 3, 3, 4, 6, 6, 4, 4, 6, 3, 7, 4, 5, 5, 3, 5, 6, 5, 5, 3, 5, 3, 0, 5, 5, 4, 6, 4, 5, 3, 6, 6, 6, 5, 3, 6, 4, 7, 5, 5, 5, 5, 5, 5, 5, 6, 5, 1, 5, 6, 5, 6, 3, 3, 4, 5, 5, 3, 2, 3, 5, 6, 6, 5, 3, 7, 7, 5, 6, 6, 7, 6, 6, 5, 4, 4, 5, 2, 7, 7, 6, 9, 5, 7, 3, 6, 6, 4, 6, 7, 4, 4, 6, 2, 6, 7, 5, 3, 4, 8, 8, 8, 7, 8, 6, 8, 6, 7, 5, 5, 5, 5, 5, 6, 5, 6, 3, 4, 5, 7, 3, 4, 5, 5, 8, 2, 2, 3, 5, 4, 4, 5, 5, 4, 8, 6, 8, 4, 8, 3, 6, 4, 5, 5, 6, 6, 6, 2, 3, 6, 6, 5, 6, 5, 7, 7, 3, 5, 6, 6, 4, 7, 5, 4, 4, 7, 6, 5, 4, 4, 4, 5, 8, 5, 6, 3, 3, 4, 7, 4, 5, 3, 4, 7, 6, 2, 7, 4, 3, 3, 6, 6, 3, 6, 7, 4, 7, 5, 3, 4, 4, 6, 3, 7, 7, 6, 5, 3, 3, 3, 5, 6, 8, 3, 3, 4, 5, 4, 4, 4, 6, 4, 4, 4, 6, 4, 7, 4, 4, 4, 7, 3, 7, 5, 6, 4, 4, 6, 6, 5, 4, 6, 5, 5, 5, 4, 5, 6, 5, 6, 7, 5, 8, 5, 3, 5, 4, 3, 5, 7, 5, 6, 5, 3, 7, 4, 3, 7, 5, 5, 3, 7, 4, 5, 5, 5, 2, 3, 6, 6, 4, 7, 4, 5, 3, 5, 5, 1, 3, 2, 6, 4, 3, 3, 4, 1, 4, 6, 5, 3, 4, 5, 6, 4, 4, 5, 9, 4, 7, 3, 4, 3, 6, 6, 5, 7, 8, 8, 2, 3, 7, 7, 8, 4, 5, 4, 7, 4, 4, 5, 5, 9, 7, 5, 5, 6, 7, 4, 5, 6, 5, 7, 5, 5, 5, 6, 4, 5, 6, 3, 4, 6, 4, 4, 6, 5, 3, 3, 5, 6, 8, 4, 7, 3, 6, 6, 7, 5, 3, 6, 7, 3, 3, 6, 6, 2, 5, 5, 3, 7, 5, 3, 4, 3, 5, 4, 6, 7, 6, 4, 4, 4, 5, 7, 4, 5, 3, 8, 3, 4, 3, 5, 6, 3, 4, 8, 7, 4, 5, 7, 7, 5, 5, 7, 5, 4, 4, 4, 5, 3, 6, 4, 5, 6, 4, 6, 4, 6, 3, 6, 5, 7, 5, 4, 3, 4, 5, 4, 7, 5, 4, 6, 1, 6, 5, 6, 4, 4, 6, 5, 7, 5, 4, 6, 6, 5, 5, 5, 4, 4, 4, 6, 5, 4, 7, 1, 5, 5, 3, 3, 7, 3, 5, 5, 4, 6, 5, 7, 4, 5, 6, 4, 4, 7, 8, 4, 4, 5, 4, 4, 6, 4, 4, 6, 5, 3, 5, 5, 5, 5, 6, 7, 6, 4, 6, 7, 1, 4, 6, 7, 5, 3, 4, 5, 4, 3, 4, 3, 5, 5, 3, 3, 8, 5, 3, 4, 4, 3, 8, 6, 5, 4, 7, 4, 7, 4, 7, 4, 4, 5, 7, 7, 5, 4, 4, 8, 5, 5, 5, 7, 7, 5, 3, 4, 5, 7, 7, 3, 6, 4, 7, 6, 5, 5, 7, 4, 4, 7, 6, 3, 6, 6, 3, 6, 6, 7, 4, 7, 3, 4, 4, 8, 5, 5, 8, 4, 4, 5, 5, 6, 3, 7, 4, 6, 4, 3, 4, 6, 4, 3, 5, 5, 5, 2, 4, 4, 7, 7, 2, 4, 3, 4, 6, 6, 4, 6, 5, 6, 4, 6, 5, 6, 4, 2, 2, 5, 3, 5, 0, 7, 5, 8, 5, 6, 3, 3, 0, 5, 7, 5, 6, 6, 4, 5, 7, 7, 4, 5, 4, 3, 3, 5, 5, 5, 7, 3, 5, 7, 5, 7, 9, 7, 5, 4, 4, 5, 4, 5, 8, 6, 5, 5, 5, 6, 4, 5, 7, 6, 4, 2, 4, 6, 5, 4, 6, 5, 5, 5, 6, 4, 6, 1, 2, 8, 5, 5, 5, 5, 6, 5, 5, 8, 4, 6, 6, 3, 5, 3, 6, 8, 5, 4, 6, 7, 0, 6, 5, 4, 4, 5, 3, 3, 6, 7, 3, 7, 6, 6, 6, 7, 7, 5, 5, 5, 4, 4, 8, 6, 4, 5, 7, 5, 4, 4, 4, 5, 6, 6, 6, 4, 3, 5, 7, 4, 3, 4, 3, 2, 6, 6, 5, 4, 6, 7, 5, 4, 6, 7, 3, 5, 6, 1, 6, 6, 4, 1, 4, 4, 5, 7, 5, 5, 5, 4, 6, 6, 5, 4, 3, 5, 6, 5, 7, 2, 7, 7, 3, 7, 3, 5, 8, 8, 6, 7, 7, 6, 4, 5, 3, 5, 7, 8, 3, 6, 5, 4, 6, 5, 2, 5, 5, 3, 6, 6, 6, 5, 7, 7, 7, 4, 7, 1, 4, 7, 6, 2, 3, 3, 3, 4, 8, 6, 7, 7, 3, 3, 6, 6, 4, 1, 7, 5, 2, 5, 6, 5, 5, 4, 5, 4, 7, 5, 3, 8, 4, 7, 6, 5, 5, 4, 7, 2, 7, 4, 7, 3, 4, 7, 4, 5, 5, 5, 5, 4, 6, 6, 4, 2, 3, 4, 5, 5, 8, 6, 4, 4, 4, 6, 6, 3, 6, 5, 5, 5, 4, 7, 5, 4, 6, 4, 5, 4, 1, 5, 5, 4, 6, 5, 4, 6, 5, 5, 4, 5, 6, 6, 3, 8, 4, 3, 6, 6, 6, 4, 5, 6, 7, 4, 5, 6, 5, 3, 5, 4, 2, 8, 6, 5, 6, 7, 7, 5, 6, 6, 5, 6, 6, 7, 3, 4, 4, 5, 7, 6, 4, 6, 5, 3, 3, 6, 7, 6, 6, 5, 9, 4, 3, 6, 7, 4, 7, 4, 4, 6, 6, 3, 6, 6, 6, 3, 4, 6, 6, 4, 3, 4, 4, 5, 8, 6, 6, 6, 5, 4, 7, 7, 5, 9, 5, 8, 8, 6, 6, 5, 2, 6, 6, 4, 3, 9, 5, 6, 4, 5, 7, 5, 5, 6, 4, 3, 3, 6, 4, 5, 4, 4, 5, 6, 4, 6, 7, 3, 6, 4, 5, 5, 7, 5, 6, 3, 3, 4, 5, 7, 7, 2, 3, 6, 6, 6, 4, 3, 7, 5, 2, 0, 6, 6, 6, 5, 3, 3, 9, 6, 3, 4, 6, 5, 7, 4, 3, 4, 6, 4, 8, 3, 4, 6, 5, 3, 4, 4, 4, 3, 7, 1, 4, 3, 2, 4, 7, 9, 5, 5, 5, 7, 4, 5, 6, 4, 3, 6, 6, 6, 3, 3, 7, 5, 4, 1, 7, 3, 2, 7, 4, 6, 6, 2, 5, 6, 4, 4, 6, 7, 5, 5, 4, 5, 3, 3, 5, 7, 3, 6, 5, 4, 6, 2, 5, 7, 5, 6, 5, 5, 7, 5, 4, 5, 6, 5, 5, 4, 5, 5, 5, 1, 8, 5, 1, 3, 4, 3, 6, 5, 6, 5, 5, 6, 6, 4, 3, 6, 4, 5, 4, 7, 3, 6, 3, 3, 4, 3, 4, 6, 5, 5, 7, 5, 6, 5, 4, 6, 7, 5, 7, 4, 7, 6, 7, 4, 4, 4, 3, 6, 6, 3, 3, 6, 1, 4, 5, 4, 6, 5, 6, 8, 6, 4, 4, 3, 4, 2, 6, 8, 7, 6, 2, 5, 4, 6, 6, 5, 6, 6, 7, 6, 5, 5, 4, 7, 7, 3, 5, 3, 6, 3, 4, 5, 4, 4, 2, 6, 6, 6, 7, 5, 8, 6, 7, 5, 6, 4, 5, 7, 6, 3, 4, 3, 6, 6, 5, 2, 5, 4, 7, 6, 5, 6, 6, 5, 7, 6, 8, 6, 6, 3, 3, 6, 4, 6, 1, 4, 4, 4, 6, 7, 6, 5, 5, 5, 6, 6, 7, 6, 5, 5, 4, 5, 4, 5, 6, 4, 8, 6, 5, 5, 7, 4, 6, 3, 4, 3, 5, 5, 4, 3, 4, 4, 6, 2, 4, 5, 6, 3, 7, 8, 6, 5, 4, 6, 6, 4, 6, 5, 7, 5, 4, 5, 5, 4, 4, 5, 5, 4, 5, 6, 6, 2, 5, 2, 5, 8, 7, 5, 2, 6, 3, 5, 5, 7, 6, 4, 4, 5, 5, 2, 6, 2, 5, 5, 3, 4, 5, 4, 6, 6, 6, 6, 5, 4, 5, 6, 4, 6, 5, 4, 6, 3, 6, 7, 2, 2, 5, 4, 4, 4, 6, 5, 3, 7, 6, 4, 6, 4, 4, 6, 5, 6, 4, 6, 4, 7, 7, 4, 6, 3, 6, 5, 5, 4, 2, 3, 5, 6, 5, 5, 5, 2, 5, 4, 7, 8, 4, 5, 4, 5, 7, 5, 5, 4, 7, 3, 4, 7, 4, 7, 5, 5, 4, 5, 7, 3, 6, 6, 5, 5, 9, 3, 8, 3, 5, 6, 3, 4, 6, 4, 5, 8, 4, 6, 7, 6, 6, 5, 2, 4, 4, 6, 5, 4, 4, 6, 3, 6, 3, 6, 5, 5, 6, 6, 6, 6, 6, 6, 7, 3, 4, 6, 6, 3, 5, 5, 4, 6, 4, 3, 6, 5, 4, 8, 8, 6, 7, 5, 6, 5, 7, 5, 4, 4, 6, 8, 6, 5, 3, 6, 6, 5, 6, 7, 5, 7, 6, 7, 2, 4, 8, 5, 7, 8, 4, 3, 8, 7, 5, 6, 6, 8, 5, 6, 9, 6, 5, 5, 6, 7, 4, 6, 4, 5, 4, 7, 3, 5, 5, 6, 3, 3, 4, 5, 5, 5, 7, 2, 4, 5, 6, 7, 5, 6, 3, 3, 4, 4, 7, 4, 5, 4, 8, 5, 6, 5, 7, 7, 5, 7, 5, 5, 7, 5, 5, 8, 4, 5, 4, 5, 4, 6, 6, 4, 4, 8, 7, 7, 6, 4, 3, 5, 7, 4, 5, 4, 6, 5, 6, 7, 4, 5, 6, 4, 8, 4, 5, 4, 6, 6, 3, 5, 5, 3, 4, 4, 7, 7, 6, 7, 2, 2, 6, 9, 3, 5, 6, 4, 5, 4, 3, 5, 6, 7, 5, 7, 4, 6, 5, 8, 5, 6, 4, 6, 5, 4, 4, 7, 5, 4, 4, 3, 7, 6, 4, 5, 5, 7, 4, 3, 6, 2, 3, 5, 4, 4, 4, 4, 6, 5, 4, 3, 5, 6, 5, 3, 3, 3, 8, 6, 5, 7, 6, 6, 5, 5, 3, 3, 6, 7, 7, 1, 5, 7, 5, 8, 5, 4, 6, 5, 5, 3, 6, 4, 5, 5, 2, 5, 4, 5, 4, 5, 5, 4, 2, 3, 4, 5, 3, 4, 7, 5, 2, 3, 3, 8, 5, 3, 5, 2, 8, 8, 5, 5, 6, 5, 7, 5, 3, 3, 7, 3, 5, 6, 4, 5, 5, 4, 6, 7, 5, 7, 7, 4, 5, 7, 5, 6, 4, 5, 6, 5, 6, 7, 6, 5, 4, 5, 6, 5, 5, 6, 6, 7, 9, 6, 3, 6, 8, 7, 5, 3, 6, 2, 4, 5, 3, 6, 5, 6, 4, 3, 6, 5, 6, 6, 4, 4, 6, 5, 2, 8, 4, 4, 5, 3, 4, 4, 4, 6, 4, 2, 2, 5, 3, 5, 6, 6, 5, 7, 4, 5, 5, 6, 6, 6, 7, 6, 6, 5, 2, 6, 7, 4, 6, 6, 5, 6, 5, 7, 3, 4, 3, 5, 5, 1, 4, 7, 7, 6, 5, 2, 5, 6, 6, 4, 8, 6, 8, 3, 7, 7, 3, 7, 3, 4, 7, 4, 5, 7, 6, 7, 5, 4, 4, 5, 4, 4, 5, 6, 5, 7, 6, 7, 2, 3, 4, 6, 5, 4, 3, 4, 6, 5, 5, 6, 4, 3, 8, 8, 5, 6, 5, 5, 6, 2, 5, 5, 6, 9, 7, 5, 8, 5, 8, 6, 5, 5, 6, 7, 7, 3, 4, 4, 5, 4, 2, 6, 6, 6, 4, 4, 5, 7, 2, 8, 4, 4, 5, 8, 7, 4, 6, 5, 4, 3, 6, 3, 6, 4, 2, 3, 8, 4, 6, 6, 6, 8, 5, 4, 7, 5, 5, 3, 6, 4, 5, 5, 7, 7, 7, 5, 5, 8, 5, 4, 5, 2, 7, 5, 3, 4, 6, 5, 1, 4, 3, 5, 6, 7, 6, 5, 6, 5, 6, 6, 7, 8, 3, 1, 5, 3, 7, 6, 6, 4, 4, 7, 3, 6, 3, 3, 4, 4, 6, 3, 4, 4, 5, 8, 3, 5, 4, 5, 6, 5, 8, 6, 6, 5, 4, 3, 4, 5, 3, 4, 6, 5, 5, 5, 5, 8, 6, 3, 6, 3, 4, 6, 3, 4, 6, 6, 7, 3, 5, 6, 6, 4, 5, 5, 7, 6, 4, 5, 5, 3, 6, 9, 8, 6, 4, 7, 5, 3, 4, 4, 6, 5, 7, 2, 6, 8, 8, 2, 8, 3, 3, 4, 4, 5, 3, 5, 4, 7, 2, 4, 5, 5, 6, 6, 4, 6, 7, 5, 7, 5, 6, 7, 5, 5, 6, 5, 3, 8, 5, 4, 5, 4, 4, 4, 6, 7, 4, 2, 7, 5, 3, 5, 5, 8, 6, 6, 6, 4, 4, 8, 4, 5, 5, 2, 4, 5, 4, 1, 8, 6, 5, 6, 5, 6, 5, 4, 4, 4, 5, 2, 3, 6, 2, 4, 5, 4, 9, 5, 7, 3, 4, 5, 5, 3, 7, 6, 1, 5, 3, 3, 4, 4, 5, 4, 4, 5, 7, 4, 3, 5, 5, 5, 6, 3, 2, 5, 4, 4, 7, 5, 2, 5, 6, 4, 5, 5, 4, 5, 5, 5, 3, 2, 5, 3, 6, 7, 6, 5, 2, 7, 5, 6, 4, 6, 5, 6, 5, 6, 4, 3, 4, 5, 3, 5, 5, 3, 6, 6, 3, 5, 7, 5, 4, 2, 6, 5, 8, 4, 5, 7, 3, 6, 5, 4, 6, 6, 3, 4, 6, 4, 5, 2, 5, 4, 3, 4, 1, 5, 6, 5, 3, 4, 6, 5, 4, 2, 6, 6, 8, 6, 4, 4, 6, 7, 4, 4, 6, 5, 5, 8, 6, 4, 6, 4, 5, 4, 4, 5, 1, 2, 4, 4, 4, 5, 7, 6, 6, 5, 6, 4, 5, 3, 6, 5, 3, 6, 6, 4, 2, 2, 4, 4, 4, 7, 5, 3, 2, 6, 4, 4, 5, 6, 6, 3, 4, 6, 7, 8, 5, 5, 3, 3, 6, 1, 6, 4, 4, 6, 7, 5, 5, 5, 3, 4, 4, 7, 2, 3, 4, 3, 5, 5, 5, 4, 5, 4, 6, 6, 5, 6, 3, 7, 8, 6, 5, 2, 6, 5, 4, 7, 7, 6, 4, 4, 3, 4, 6, 5, 7, 2, 6, 4, 1, 6, 6, 7, 5, 4, 6, 2, 3, 5, 8, 4, 6, 3, 6, 8, 4, 7, 4, 6, 3, 6, 3, 5, 5, 4, 4, 8, 4, 6, 4, 8, 6, 6, 6, 6, 6, 3, 2, 1, 5, 3, 7, 6, 6, 7, 7, 5, 5, 6, 4, 7, 3, 5, 7, 5, 4, 4, 4, 4, 3, 6, 4, 5, 5, 6, 3, 5, 5, 5, 7, 6, 2, 5, 3, 5, 4, 7, 7, 5, 5, 3, 2, 7, 5, 7, 3, 3, 5, 4, 4, 3, 6, 4, 3, 4, 5, 5, 5, 3, 4, 5, 6, 6, 6, 5, 7, 6, 8, 5, 4, 2, 4, 7, 7, 3, 5, 4, 4, 7, 7, 4, 7, 7, 6, 5, 8, 4, 7, 5, 5, 5, 6, 1, 5, 5, 2, 9, 4, 7, 9, 7, 4, 8, 4, 4, 4, 4, 6, 7, 6, 8, 7, 8, 7, 3, 8, 5, 5, 7, 5, 3, 9, 4, 4, 2, 2, 6, 5, 3, 8, 5, 4, 6, 5, 7, 6, 5, 5, 3, 4, 4, 1, 4, 4, 5, 4, 3, 4, 4, 7, 5, 5, 7, 6, 5, 7, 4, 8, 4, 2, 5, 2, 2, 5, 6, 6, 6, 4, 3, 5, 7, 7, 5, 7, 4, 6, 8, 4, 7, 6, 4, 5, 3, 4, 5, 5, 2, 6, 6, 6, 5, 5, 7, 5, 7, 5, 5, 5, 6, 6, 3, 4, 4, 7, 7, 4, 5, 8, 5, 4, 6, 7, 6, 6, 6, 8, 4, 5, 5, 7, 6, 5, 2, 4, 4, 8, 7, 5, 3, 6, 3, 7, 3, 6, 5, 5, 7, 5, 7, 5, 5, 7, 7, 6, 8, 4, 3, 8, 3, 5, 3, 6, 8, 5, 8, 9, 5, 2, 5, 6, 7, 6, 4, 5, 6, 6, 7, 2, 5, 4, 6, 7, 4, 4, 2, 6, 5, 6, 5, 4, 6, 3, 7, 4, 5, 3, 4, 7, 5, 5, 5, 4, 2, 5, 5, 3, 4, 6, 1, 6, 7, 4, 5, 4, 4, 8, 6, 5, 7, 6, 6, 4, 6, 7, 6, 5, 2, 4, 6, 5, 7, 7, 5, 5, 7, 7, 5, 6, 6, 5, 3, 6, 7, 3, 6, 4, 6, 7, 5, 5, 8, 5, 6, 7, 3, 3, 4, 6, 5, 6, 6, 4, 4, 5, 5, 1, 6, 8, 2, 7, 4, 3, 7, 5, 4, 4, 2, 8, 7, 6, 5, 6, 4, 6, 6, 3, 3, 7, 5, 7, 8, 4, 4, 5, 5, 4, 8, 6, 2, 5, 3, 3, 5, 6, 6, 8, 6, 8, 5, 6, 1, 4, 2, 5, 8, 6, 6, 3, 4, 4, 4, 5, 6, 3, 5, 4, 5, 1, 4, 2, 5, 6, 4, 3, 8, 9, 6, 5, 5, 3, 7, 2, 4, 6, 6, 7, 5, 6, 6, 7, 4, 5, 4, 8, 5, 6, 4, 3, 7, 7, 5, 3, 6, 6, 6, 3, 5, 7, 6, 4, 7, 6, 4, 5, 8, 6, 5, 7, 3, 5, 6, 5, 7, 5, 7, 5, 4, 5, 4, 6, 5, 3, 9, 8, 6, 2, 3, 5, 5, 4, 5, 6, 8, 6, 6, 7, 4, 7, 6, 6, 3, 4, 7, 7, 3, 4, 1, 7, 5, 3, 5, 1, 2, 4, 6, 5, 5, 6, 5, 3, 4, 4, 6, 6, 4, 5, 6, 4, 7, 6, 6, 1, 3, 7, 7, 6, 3, 7, 2, 4, 1, 3, 4, 6, 2, 5, 5, 5, 5, 4, 4, 6, 5, 5, 5, 5, 5, 4, 2, 6, 7, 5, 4, 4, 8, 5, 5, 5, 5, 5, 2, 7, 7, 6, 3, 3, 6, 3, 6, 5, 6, 3, 7, 5, 5, 6, 4, 4, 4, 6, 7, 3, 3, 4, 8, 5, 8, 6, 2, 3, 2, 4, 9, 4, 3, 7, 7, 6, 7, 5, 6, 4, 6, 5, 2, 3, 4, 7, 4, 5, 6, 3, 4, 4, 2, 6, 5, 2, 6, 5, 3, 6, 4, 7, 6, 5, 2, 4, 6, 7, 6, 8, 5, 3, 6, 5, 3, 7, 7, 5, 10, 5, 6, 4, 5, 6, 4, 6, 8, 4, 6, 5, 5, 5, 4, 4, 8, 4, 7, 6, 7, 3, 8, 3, 5, 3, 4, 6, 6, 2, 7, 4, 8, 5, 7, 4, 4, 2, 4, 3, 5, 6, 5, 5, 5, 3, 5, 6, 6, 6, 5, 3, 5, 2, 5, 4, 5, 5, 6, 6, 6, 5, 7, 8, 7, 5, 4, 3, 5, 5, 8, 8, 7, 5, 5, 5, 4, 2, 5, 5, 8, 5, 5, 4, 4, 5, 6, 4, 4, 5, 7, 7, 6, 7, 6, 4, 5, 5, 4, 5, 5, 4, 5, 3, 6, 2, 6, 7, 4, 5, 6, 3, 6, 3, 6, 7, 3, 6, 5, 5, 8, 8, 7, 4, 8, 2, 5, 7, 7, 5, 4, 5, 6, 4, 7, 5, 7, 8, 6, 2, 4, 6, 6, 5, 2, 5, 6, 3, 6, 4, 6, 5, 7, 4, 5, 4, 5, 4, 6, 6, 5, 5, 6, 4, 6, 6, 6, 4, 3, 5, 4, 3, 6, 4, 3, 4, 7, 4, 4, 3, 4, 3, 6, 3, 5, 5, 4, 5, 8, 4, 6, 4, 3, 7, 5, 5, 3, 3, 6, 6, 8, 4, 5, 5, 4, 7, 7, 6, 4, 4, 5, 4, 4, 3, 6, 5, 6, 3, 4, 6, 6, 4, 5, 4, 4, 5, 2, 6, 5, 9, 5, 7, 5, 8, 5, 6, 3, 4, 5, 5, 1, 4, 5, 2, 5, 8, 4, 4, 5, 5, 3, 7, 5, 3, 4, 4, 3, 4, 2, 7, 5, 4, 5, 4, 5, 3, 4, 4, 5, 6, 6, 6, 6, 5, 3, 5, 1, 3, 5, 5, 2, 4, 5, 7, 3, 5, 3, 4, 7, 4, 8, 6, 7, 6, 7, 3, 3, 4, 3, 4, 3, 3, 4, 8, 4, 3, 4, 6, 7, 7, 2, 3, 5, 5, 1, 5, 5, 6, 9, 2, 4, 5, 6, 4, 5, 4, 6, 7, 7, 3, 5, 5, 8, 9, 6, 2, 4, 4, 6, 6, 3, 5, 6, 8, 5, 3, 5, 7, 4, 6, 5, 8, 3, 4, 3, 3, 5, 2, 8, 4, 7, 7, 4, 6, 4, 5, 6, 5, 5, 3, 5, 3, 5, 4, 4, 4, 5, 7, 6, 5, 4, 3, 5, 6, 4, 6, 5, 5, 4, 2, 5, 5, 7, 5, 2, 2, 8, 3, 6, 5, 4, 4, 5, 4, 2, 3, 6, 5, 5, 5, 3, 5, 5, 5, 7, 9, 5, 2, 5, 3, 5, 7, 4, 5, 6, 4, 6, 5, 7, 3, 7, 4, 5, 6, 4, 5, 5, 5, 2, 5, 6, 3, 7, 2, 4, 5, 2, 6, 7, 7, 4, 8, 5, 6, 7, 6, 4, 3, 3, 8, 6, 7, 4, 7, 5, 6, 4, 6, 6, 5, 8, 5, 4, 6, 6, 7, 6, 7, 4, 6, 6, 8, 7, 4, 5, 5, 6, 4, 4, 4, 6, 4, 4, 8, 7, 6, 6, 3, 6, 3, 2, 2, 5, 5, 5, 5, 4, 4, 4, 4, 2, 5, 6, 4, 6, 6, 7, 2, 7, 6, 4, 4, 4, 7, 4, 7, 6, 3, 3, 8, 6, 4, 5, 3, 5, 6, 5, 5, 4, 4, 6, 5, 4, 7, 5, 4, 5, 3, 7, 3, 7, 5, 5, 6, 6, 7, 7, 4, 2, 6, 3, 6, 7, 3, 3, 6, 7, 5, 6, 4, 5, 5, 5, 5, 4, 6, 4, 6, 4, 6, 4, 4, 5, 4, 4, 7, 5, 4, 5, 3, 5, 6, 7, 6, 5, 5, 4, 3, 4, 6, 5, 6, 2, 7, 8, 6, 7, 3, 6, 2, 5, 7, 6, 6, 6, 8, 7, 3, 4, 4, 5, 3, 6, 6, 4, 5, 6, 5, 8, 6, 3, 4, 7, 6, 5, 4, 6, 4, 5, 5, 5, 5, 6, 4, 7, 6, 6, 6, 2, 5, 6, 5, 4, 2, 3, 2, 5, 4, 4, 4, 4, 8, 4, 5, 4, 3, 8, 5, 4, 7, 5, 5, 4, 5, 7, 5, 8, 3, 5, 3, 5, 6, 5, 7, 3, 2, 6, 2, 8, 6, 4, 6, 8, 4, 4, 4, 6, 5, 7, 5, 4, 4, 2, 2, 5, 5, 5, 6, 8, 3, 5, 5, 6, 7, 6, 5, 5, 3, 4, 6, 3, 5, 4, 2, 3, 4, 4, 5, 5, 5, 4, 5, 8, 6, 6, 4, 5, 5, 5, 2, 4, 4, 6, 5, 8, 2, 6, 7, 5, 5, 6, 2, 4, 5, 4, 7, 6, 2, 4, 4, 4, 5, 5, 7, 6, 7, 2, 4, 6, 4, 4, 5, 4, 6, 6, 5, 4, 7, 5, 4, 4, 6, 4, 4, 6, 6, 8, 7, 4, 6, 5, 7, 6, 5, 4, 7, 4, 5, 7, 7, 5, 4, 4, 7, 6, 2, 5, 5, 6, 3, 5, 4, 3, 4, 4, 6, 6, 3, 6, 6, 5, 3, 4, 4, 5, 7, 3, 3, 4, 7, 6, 6, 6, 6, 6, 4, 8, 4, 6, 6, 5, 8, 4, 6, 6, 5, 2, 3, 5, 4, 5, 7, 6, 7, 6, 4, 5, 5, 6, 6, 2, 9, 7, 4, 6, 6, 3, 5, 6, 4, 5, 8, 2, 5, 5, 3, 10, 7, 6, 8, 5, 5, 5, 4, 5, 8, 6, 6, 4, 5, 3, 4, 5, 7, 5, 3, 5, 6, 6, 5, 2, 3, 6, 3, 5, 6, 6, 7, 7, 5, 5, 3, 4, 4, 4, 6, 8, 4, 6, 6, 4, 5, 8, 7, 6, 4, 2, 7, 3, 7, 5, 4, 6, 3, 5, 4, 6, 3, 4, 4, 5, 7, 5, 0, 2, 4, 5, 5, 6, 6, 4, 4, 3, 7, 2, 6, 4, 6, 4, 6, 5, 3, 4, 4, 6, 4, 3, 8, 5, 6, 3, 6, 5, 5, 7, 4, 2, 8, 5, 3, 6, 7, 5, 7, 6, 8, 5, 5, 6, 4, 3, 6, 4, 4, 10, 6, 3, 4, 5, 3, 5, 5, 2, 3, 4, 7, 4, 2, 5, 2, 4, 6, 5, 7, 4, 5, 5, 6, 4, 5, 5, 4, 5, 4, 4, 7, 4, 2, 2, 4, 7, 8, 3, 6, 1, 2, 4, 5, 6, 4, 6, 3, 5, 5, 3, 6, 6, 5, 4, 4, 8, 3, 5, 6, 3, 7, 4, 8, 5, 4, 7, 5, 4, 6, 4, 4, 6, 4, 5, 3, 5, 7, 5, 5, 3, 7, 6, 6, 5, 4, 2, 6, 3, 5, 0, 7, 5, 3, 6, 6, 6, 6, 5, 3, 3, 5, 4, 5, 3, 7, 8, 6, 7, 4, 4, 4, 7, 6, 7, 6, 5, 2, 2, 5, 5, 6, 5, 5, 7, 6, 7, 6, 6, 5, 3, 7, 4, 5, 7, 5, 7, 5, 3, 6, 5, 4, 3, 4, 5, 2, 6, 3, 5, 6, 5, 4, 3, 4, 4, 5, 5, 4, 4, 6, 7, 5, 4, 7, 8, 3, 3, 5, 5, 5, 6, 7, 4, 4, 3, 5, 8, 4, 7, 3, 3, 5, 4, 5, 4, 6, 5, 3, 7, 2, 3, 2, 7, 5, 5, 5, 7, 5, 7, 7, 5, 7, 5, 6, 6, 3, 8, 4, 5, 8, 5, 5, 5, 8, 2, 9, 4, 4, 4, 6, 4, 4, 6, 2, 6, 3, 6, 5, 5, 5, 5, 5, 8, 3, 5, 6, 7, 4, 7, 4, 4, 2, 5, 5, 6, 6, 5, 7, 6, 6, 6, 4, 7, 4, 6, 3, 4, 8, 4, 5, 5, 1, 4, 6, 5, 6, 5, 9, 6, 5, 4, 5, 6, 1, 8, 2, 5, 5, 4, 7, 8, 9, 7, 5, 5, 7, 4, 5, 6, 6, 4, 3, 4, 4, 6, 4, 4, 6, 7, 7, 7, 1, 5, 2, 6, 5, 5, 1, 6, 6, 7, 4, 5, 4, 5, 4, 4, 5, 4, 2, 4, 9, 3, 7, 5, 6, 6, 3, 4, 3, 7, 3, 2, 8, 7, 3, 7, 6, 6, 7, 6, 5, 4, 4, 5, 8, 6, 6, 2, 4, 7, 6, 6, 6, 6, 5, 6, 6, 5, 5, 4, 2, 4, 5, 9, 5, 4, 4, 2, 4, 7, 5, 5, 5, 6, 3, 3, 3, 5, 5, 5, 6, 5, 3, 6, 5, 5, 7, 4, 5, 5, 6, 7, 6, 5, 4, 6, 5, 5, 5, 3, 3, 4, 3, 5, 2, 4, 6, 4, 6, 6, 4, 5, 3, 4, 6, 2, 6, 3, 3, 7, 7, 6, 5, 4, 3, 4, 3, 5, 4, 5, 5, 5, 5, 7, 4, 3, 4, 7, 7, 7, 5, 8, 2, 5, 4, 7, 7, 4, 6, 3, 5, 6, 3, 5, 3, 8, 4, 4, 6, 3, 5, 7, 6, 5, 7, 3, 5, 5, 8, 6, 1, 6, 4, 6, 4, 4, 4, 5, 4, 5, 7, 7, 4, 5, 7, 6, 3, 4, 4, 6, 3, 6, 6, 3, 5, 6, 4, 3, 7, 6, 7, 7, 4, 7, 6, 4, 2, 5, 5, 4, 8, 5, 6, 7, 3, 3, 8, 6, 6, 4, 8, 5, 2, 7, 3, 4, 5, 2, 4, 5, 9, 6, 7, 2, 5, 4, 4, 8, 4, 4, 7, 5, 7, 3, 6, 1, 5, 6, 3, 4, 6, 5, 5, 5, 6, 2, 7, 5, 6, 6, 4, 8, 5, 6, 4, 2, 8, 6, 8, 3, 2, 5, 4, 4, 3, 6, 3, 4, 3, 3, 6, 3, 4, 4, 3, 5, 5, 7, 5, 5, 6, 5, 8, 5, 5, 5, 6, 6, 5, 5, 4, 4, 8, 6, 4, 4, 6, 6, 6, 5, 5, 5, 7, 4, 5, 4, 6, 3, 6, 4, 7, 4, 4, 6, 3, 5, 7, 4, 6, 4, 4, 7, 3, 8, 3, 8, 4, 3, 8, 6, 4, 5, 4, 7, 3, 6, 3, 4, 6, 4, 5, 5, 4, 6, 3, 4, 4, 4, 4, 5, 4, 5, 5, 8, 5, 4, 6, 4, 5, 6, 3, 6, 3, 3, 7, 4, 4, 5, 2, 4, 2, 7, 6, 7, 7, 6, 3, 2, 8, 5, 4, 5, 5, 5, 3, 7, 5, 4, 7, 3, 4, 5, 4, 8, 2, 3, 2, 4, 6, 6, 5, 4, 8, 6, 5, 5, 6, 4, 4, 3, 4, 7, 5, 6, 7, 5, 1, 8, 8, 5, 1, 7, 4, 3, 4, 3, 3, 5, 4, 6, 7, 3, 4, 8, 4, 7, 4, 5, 4, 5, 6, 5, 3, 7, 5, 5, 9, 4, 3, 6, 3, 3, 6, 7, 5, 4, 3, 2, 6, 5, 3, 6, 6, 6, 3, 4, 7, 3, 6, 5, 5, 2, 7, 3, 4, 6, 4, 5, 5, 4, 3, 5, 5, 3, 5, 5, 4, 5, 4, 7, 5, 8, 7, 7, 4, 3, 6, 2, 5, 3, 2, 5, 3, 5, 3, 7, 3, 5, 4, 5, 5, 4, 5, 7, 5, 6, 4, 5, 4, 4, 3, 5, 4, 6, 8, 6, 3, 3, 5, 7, 3, 5, 6, 6, 6, 6, 6, 2, 3, 4, 2, 3, 3, 5, 4, 6, 7, 3, 7, 7, 5, 3, 6, 5, 2, 7, 4, 3, 3, 4, 5, 5, 7, 4, 5, 3, 8, 5, 6, 4, 4, 4, 6, 3, 5, 5, 5, 5, 3, 3, 3, 5, 7, 6, 5, 3, 2, 5, 6, 7, 7, 5, 5, 3, 4, 7, 5, 5, 3, 4, 6, 6, 5, 6, 7, 4, 8, 5, 3, 6, 5, 3, 6, 5, 3, 4, 5, 2, 5, 6, 5, 5, 4, 5, 6, 8, 7, 7, 4, 5, 7, 4, 7, 7, 4, 7, 3, 5, 6, 4, 5, 3, 8, 4, 8, 4, 4, 3, 7, 2, 4, 7, 4, 7, 7, 7, 7, 5, 4, 7, 6, 5, 6, 3, 8, 3, 3, 5, 3, 5, 5, 3, 5, 3, 4, 5, 1, 5, 5, 5, 6, 6, 3, 4, 7, 5, 4, 7, 5, 6, 4, 5, 6, 5, 5, 3, 5, 2, 5, 5, 5, 5, 4, 4, 7, 5, 5, 7, 5, 4, 4, 5, 7, 5, 4, 6, 8, 8, 4, 7, 5, 7, 6, 6, 5, 6, 0, 5, 5, 6, 3, 4, 5, 6, 6, 4, 5, 4, 6, 7, 5, 5, 4, 5, 8, 6, 5, 5, 8, 7, 4, 4, 4, 5, 5, 4, 5, 4, 5, 5, 6, 4, 6, 5, 7, 6, 4, 5, 3, 6, 6, 4, 3, 7, 7, 3, 9, 3, 4, 4, 6, 7, 3, 3, 5, 3, 3, 4, 5, 7, 7, 4, 2, 3, 5, 4, 6, 6, 7, 6, 5, 7, 3, 2, 3, 4, 3, 5, 6, 5, 5, 7, 5, 5, 3, 4, 6, 9, 6, 4, 4, 5, 5, 5, 3, 5, 6, 8, 4, 8, 6, 4, 5, 1, 2, 4, 1, 7, 4, 6, 4, 6, 6, 5, 4, 3, 8, 4, 1, 4, 4, 8, 4, 5, 5, 7, 6, 6, 5, 5, 5, 6, 9, 3, 2, 2, 4, 6, 7, 6, 3, 5, 5, 3, 6, 6, 5, 6, 3, 7, 4, 5, 7, 6, 6, 4, 4, 4, 8, 7, 6, 7, 7, 4, 5, 3, 7, 8, 4, 4, 5, 4, 4, 5, 4, 4, 5, 8, 4, 6, 8, 4, 5, 7, 4, 3, 4, 6, 8, 5, 8, 4, 4, 5, 7, 4, 8, 5, 5, 7, 6, 5, 4, 6, 3, 8, 7, 6, 7, 7, 5, 5, 4, 5, 4, 6, 5, 6, 7, 4, 5, 7, 5, 5, 6, 7, 4, 2, 4, 6, 3, 7, 6, 6, 5, 4, 4, 6, 4, 5, 4, 3, 4, 5, 6, 5, 5, 2, 4, 4, 4, 8, 2, 7, 4, 5, 3, 2, 3, 6, 4, 4, 7, 5, 6, 4, 4, 2, 6, 3, 3, 7, 6, 4, 7, 2, 6, 6, 3, 5, 7, 6, 1, 5, 7, 4, 5, 4, 4, 4, 5, 3, 5, 5, 4, 8, 4, 5, 4, 6, 4, 9, 4, 6, 4, 5, 9, 5, 5, 3, 6, 7, 3, 6, 4, 4, 5, 4, 6, 5, 3, 4, 7, 6, 4, 4, 3, 5, 7, 3, 6, 6, 6, 5, 3, 1, 6, 5, 4, 8, 6, 6, 6, 5, 4, 4, 5, 5, 5, 6, 6, 5, 6, 7, 8, 6, 4, 4, 6, 4, 5, 6, 6, 5, 3, 4, 3, 6, 2, 4, 3, 2, 6, 5, 6, 6, 3, 4, 3, 9, 8, 5, 5, 4, 8, 6, 6, 2, 7, 6, 2, 5, 3, 4, 5, 4, 5, 6, 4, 9, 7, 7, 6, 4, 3, 7, 5, 4, 3, 5, 4, 6, 3, 3, 2, 6, 3, 6, 7, 5, 6, 4, 5, 3, 3, 5, 5, 3, 9, 5, 4, 2, 3, 7, 5, 2, 7, 3, 6, 4, 5, 3, 6, 7, 3, 5, 5, 3, 5, 4, 6, 6, 5, 4, 6, 5, 5, 5, 4, 6, 5, 6, 5, 5, 7, 5, 10, 4, 6, 5, 2, 4, 5, 8, 8, 7, 4, 5, 5, 5, 6, 4, 5, 7, 8, 4, 6, 3, 5, 6, 9, 5, 5, 2, 3, 5, 3, 6, 3, 5, 4, 6, 4, 6, 8, 3, 4, 5, 1, 5, 7, 5, 5, 5, 1, 5, 4, 5, 5, 5, 2, 6, 6, 3, 3, 8, 6, 6, 6, 8, 6, 7, 4, 8, 6, 5, 6, 4, 5, 3, 5, 4, 5, 3, 5, 5, 7, 6, 8, 6, 4, 4, 5, 4, 6, 4, 5, 2, 5, 5, 6, 5, 7, 5, 4, 7, 4, 3, 6, 6, 3, 5, 5, 7, 4, 4, 4, 5, 5, 8, 5, 6, 4, 4, 6, 6, 5, 7, 4, 4, 4, 2, 2, 5, 5, 6, 6, 3, 4, 5, 3, 6, 3, 8, 7, 2, 5, 3, 4, 2, 5, 4, 5, 8, 5, 6, 5, 5, 6, 5, 5, 6, 6, 4, 4, 5, 9, 7, 3, 6, 5, 5, 6, 5, 7, 3, 4, 3, 7, 6, 5, 4, 8, 6, 7, 4, 3, 7, 7, 7, 5, 3, 3, 6, 3, 5, 5, 8, 4, 5, 5, 2, 10, 4, 4, 7, 4, 5, 5, 5, 4, 4, 3, 6, 3, 4, 4, 6, 4, 8, 4, 8, 7, 3, 4, 6, 4, 5, 6, 5, 5, 5, 3, 8, 4, 4, 5, 6, 5, 5, 7, 5, 7, 4, 6, 7, 8, 3, 2, 4, 4, 5, 5, 6, 3, 5, 2, 4, 5, 6, 5, 3, 7, 5, 7, 7, 6, 2, 3, 5, 3, 5, 7, 5, 8, 8, 6, 4, 5, 6, 6, 6, 5, 5, 4, 8, 8, 4, 5, 7, 3, 4, 2, 5, 3, 5, 4, 8, 3, 5, 6, 3, 3, 1, 3, 5, 6, 6, 4, 9, 5, 9, 3, 4, 4, 4, 5, 7, 4, 6, 4, 6, 6, 6, 5, 3, 6, 4, 4, 6, 5, 5, 8, 5, 5, 2, 7, 6, 6, 4, 5, 2, 4, 4, 2, 5, 6, 4, 4, 7, 6, 6, 8, 4, 4, 6, 4, 8, 4, 4, 7, 5, 4, 5, 6, 5, 6, 5, 6, 5, 5, 5, 8, 4, 4, 3, 5, 6, 4, 7, 5, 3, 8, 5, 5, 5, 6, 4, 5, 5, 6, 6, 5, 3, 5, 7, 3, 6, 4, 5, 4, 7, 5, 7, 5, 4, 2, 5, 5, 5, 6, 6, 4, 7, 6, 5, 5, 6, 4, 3, 6, 3, 6, 7, 6, 6, 5, 6, 7, 5, 5, 4, 6, 6, 9, 6, 6, 5, 4, 8, 4, 6, 3, 4, 5, 6, 5, 7, 6, 7, 7, 7, 7, 3, 5, 4, 4, 4, 3, 2, 4, 8, 5, 3, 1, 6, 6, 5, 5, 5, 6, 6, 5, 7, 5, 6, 7, 4, 4, 3, 4, 7, 6, 7, 4, 1, 6, 7, 5, 3, 5, 4, 7, 3, 5, 5, 7, 6, 6, 1, 6, 6, 3, 6, 5, 4, 5, 2, 3, 7, 5, 5, 5, 6, 2, 5, 7, 6, 5, 4, 2, 5, 6, 7, 5, 2, 6, 2, 5, 6, 1, 5, 4, 4, 7, 4, 5, 7, 6, 6, 4, 6, 4, 5, 7, 6, 4, 3, 7, 6, 5, 2, 3, 6, 6, 5, 5, 6, 7, 4, 2, 6, 9, 4, 4, 9, 3, 6, 5, 2, 4, 5, 7, 3, 7, 5, 3, 3, 5, 2, 6, 4, 6, 3, 5, 6, 6, 2, 7, 5, 7, 4, 4, 8, 5, 5, 6, 3, 4, 7, 3, 8, 3, 6, 4, 5, 5, 7, 6, 4, 7, 4, 3, 4, 7, 6, 7, 4, 7, 4, 6, 5, 8, 3, 6, 7, 7, 5, 3, 6, 6, 3, 6, 6, 2, 6, 3, 6, 7, 7, 6, 4, 3, 6, 2, 6, 4, 7, 2, 5, 3, 4, 5, 7, 4, 4, 5, 4, 6, 5, 6, 3, 5, 7, 4, 6, 6, 6, 5, 3, 3, 5, 5, 6, 6, 2, 3, 6, 5, 4, 3, 5, 5, 3, 6, 3, 4, 4, 6, 7, 4, 4, 5, 5, 4, 6, 2, 4, 4, 8, 4, 4, 6, 5, 5, 2, 6, 5, 6, 4, 7, 4, 7, 6, 7, 2, 5, 5, 7, 4, 6, 6, 6, 5, 3, 5, 5, 6, 7, 3, 8, 7, 2, 4, 8, 4, 6, 5, 7, 4, 5, 5, 5, 7, 5, 4, 4, 5, 5, 6, 6, 5, 2, 3, 4, 5, 6, 8, 6, 3, 5, 5, 6, 4, 7, 6, 3, 5, 5, 3, 4, 4, 5, 4, 4, 4, 3, 2, 5, 6, 5, 6, 6, 6, 7, 4, 5, 5, 4, 3, 6, 2, 4, 7, 3, 4, 5, 4, 3, 6, 7, 3, 6, 6, 4, 6, 5, 4, 6, 7, 3, 6, 2, 5, 4, 6, 2, 5, 5, 6, 5, 3, 6, 7, 7, 4, 4, 7, 7, 6, 6, 3, 5, 4, 5, 8, 3, 5, 3, 4, 3, 3, 7, 6, 2, 6, 5, 5, 6, 3, 4, 4, 6, 6, 3, 6, 5, 4, 3, 2, 7, 5, 4, 6, 3, 7, 6, 6, 4, 7, 6, 7, 4, 5, 5, 3, 6, 4, 5, 6, 5, 3, 5, 4, 4, 6, 7, 5, 6, 6, 3, 8, 6, 4, 6, 7, 6, 5, 3, 5, 5, 5, 5, 6, 5, 2, 5, 4, 2, 3, 5, 3, 4, 7, 6, 3, 5, 7, 4, 4, 6, 4, 5, 7, 3, 5, 9, 6, 8, 5, 4, 5, 7, 6, 4, 6, 2, 7, 2, 4, 5, 4, 4, 7, 6, 5, 6, 3, 3, 3, 5, 4, 3, 4, 7, 3, 5, 5, 7, 6, 1, 3, 4, 4, 4, 6, 5, 6, 5, 6, 7, 8, 6, 5, 6, 6, 4, 8, 5, 8, 6, 5, 5, 6, 8, 7, 6, 7, 4, 4, 4, 5, 6, 5, 3, 7, 6, 6, 3, 4, 4, 4, 4, 7, 6, 6, 2, 5, 4, 5, 5, 5, 4, 4, 5, 3, 5, 5, 7, 5, 4, 4, 6, 5, 5, 6, 2, 5, 5, 5, 3, 6, 6, 3, 5, 6, 7, 6, 7, 5, 4, 4, 7, 8, 3, 5, 6, 4, 6, 6, 3, 4, 3, 4, 7, 5, 7, 4, 4, 7, 5, 2, 5, 2, 3, 4, 4, 2, 4, 5, 7, 6, 4, 5, 6, 5, 4, 6, 6, 4, 5, 5, 4, 7, 5, 6, 5, 5, 5, 4, 5, 6, 4, 6, 7, 3, 6, 4, 5, 4, 4, 6, 3, 4, 5, 5, 5, 4, 5, 3, 3, 5, 4, 4, 7, 5, 4, 6, 6, 7, 4, 6, 7, 7, 6, 6, 6, 4, 6, 6, 5, 3, 4, 4, 5, 4, 5, 4, 3, 3, 6, 4, 4, 4, 2, 2, 4, 7, 4, 8, 6, 4, 5, 6, 4, 7, 4, 6, 2, 3, 4, 4, 3, 6, 4, 5, 4, 5, 4, 5, 6, 7, 8, 3, 4, 4, 6, 7, 4, 3, 7, 3, 5, 5, 5, 5, 5, 5, 6, 8, 4, 4, 3, 4, 4, 6, 3, 2, 6, 9, 5, 8, 6, 8, 3, 4, 8, 7, 5, 4, 7, 4, 4]\n"
     ]
    },
    {
     "data": {
      "image/png": "[encoded data removed]",
      "text/plain": [
       "<Figure size 640x480 with 1 Axes>"
      ]
     },
     "metadata": {},
     "output_type": "display_data"
    }
   ],
   "source": [
    "np.random.seed(123)\n",
    "final_tail = []\n",
    "for x in range(10000):\n",
    "    tails = [0]\n",
    "    for x in range(10):\n",
    "        coin = np.random.randint(0, 2)\n",
    "        tails.append(tails[x] + coin)\n",
    "    final_tail.append(tails[-1])\n",
    "print(final_tail)\n",
    "\n",
    "plt.hist(final_tail, bins=10)\n",
    "plt.show()"
   ]
  },
  {
   "cell_type": "code",
   "execution_count": 6,
   "metadata": {},
   "outputs": [
    {
     "data": {
      "text/html": [
       "<div>\n",
       "<style scoped>\n",
       "    .dataframe tbody tr th:only-of-type {\n",
       "        vertical-align: middle;\n",
       "    }\n",
       "\n",
       "    .dataframe tbody tr th {\n",
       "        vertical-align: top;\n",
       "    }\n",
       "\n",
       "    .dataframe thead th {\n",
       "        text-align: right;\n",
       "    }\n",
       "</style>\n",
       "<table border=\"1\" class=\"dataframe\">\n",
       "  <thead>\n",
       "    <tr style=\"text-align: right;\">\n",
       "      <th></th>\n",
       "      <th>cars_per_cap</th>\n",
       "    </tr>\n",
       "  </thead>\n",
       "  <tbody>\n",
       "    <tr>\n",
       "      <th>count</th>\n",
       "      <td>7.000000</td>\n",
       "    </tr>\n",
       "    <tr>\n",
       "      <th>mean</th>\n",
       "      <td>351.571429</td>\n",
       "    </tr>\n",
       "    <tr>\n",
       "      <th>std</th>\n",
       "      <td>345.595552</td>\n",
       "    </tr>\n",
       "    <tr>\n",
       "      <th>min</th>\n",
       "      <td>18.000000</td>\n",
       "    </tr>\n",
       "    <tr>\n",
       "      <th>25%</th>\n",
       "      <td>57.500000</td>\n",
       "    </tr>\n",
       "    <tr>\n",
       "      <th>50%</th>\n",
       "      <td>200.000000</td>\n",
       "    </tr>\n",
       "    <tr>\n",
       "      <th>75%</th>\n",
       "      <td>659.500000</td>\n",
       "    </tr>\n",
       "    <tr>\n",
       "      <th>max</th>\n",
       "      <td>809.000000</td>\n",
       "    </tr>\n",
       "  </tbody>\n",
       "</table>\n",
       "</div>"
      ],
      "text/plain": [
       "       cars_per_cap\n",
       "count      7.000000\n",
       "mean     351.571429\n",
       "std      345.595552\n",
       "min       18.000000\n",
       "25%       57.500000\n",
       "50%      200.000000\n",
       "75%      659.500000\n",
       "max      809.000000"
      ]
     },
     "execution_count": 6,
     "metadata": {},
     "output_type": "execute_result"
    }
   ],
   "source": [
    "cars.describe()"
   ]
  },
  {
   "cell_type": "code",
   "execution_count": 13,
   "metadata": {},
   "outputs": [
    {
     "data": {
      "text/plain": [
       "array([['United States', True, 809],\n",
       "       ['Australia', False, 731],\n",
       "       ['Japan', False, 588],\n",
       "       ['India', False, 18],\n",
       "       ['Russia', True, 200],\n",
       "       ['Morocco', True, 70],\n",
       "       ['Egypt', True, 45]], dtype=object)"
      ]
     },
     "execution_count": 13,
     "metadata": {},
     "output_type": "execute_result"
    }
   ],
   "source": [
    "cars.values"
   ]
  },
  {
   "cell_type": "code",
   "execution_count": 18,
   "metadata": {},
   "outputs": [
    {
     "data": {
      "text/plain": [
       "Index(['US', 'AUS', 'JPN', 'IN', 'RU', 'MOR', 'EG'], dtype='object')"
      ]
     },
     "execution_count": 18,
     "metadata": {},
     "output_type": "execute_result"
    }
   ],
   "source": [
    "cars.index"
   ]
  },
  {
   "cell_type": "code",
   "execution_count": 27,
   "metadata": {},
   "outputs": [
    {
     "data": {
      "text/html": [
       "<div>\n",
       "<style scoped>\n",
       "    .dataframe tbody tr th:only-of-type {\n",
       "        vertical-align: middle;\n",
       "    }\n",
       "\n",
       "    .dataframe tbody tr th {\n",
       "        vertical-align: top;\n",
       "    }\n",
       "\n",
       "    .dataframe thead th {\n",
       "        text-align: right;\n",
       "    }\n",
       "</style>\n",
       "<table border=\"1\" class=\"dataframe\">\n",
       "  <thead>\n",
       "    <tr style=\"text-align: right;\">\n",
       "      <th></th>\n",
       "      <th>country</th>\n",
       "      <th>drives_right</th>\n",
       "      <th>cars_per_cap</th>\n",
       "    </tr>\n",
       "  </thead>\n",
       "  <tbody>\n",
       "    <tr>\n",
       "      <th>US</th>\n",
       "      <td>United States</td>\n",
       "      <td>True</td>\n",
       "      <td>809</td>\n",
       "    </tr>\n",
       "    <tr>\n",
       "      <th>AUS</th>\n",
       "      <td>Australia</td>\n",
       "      <td>False</td>\n",
       "      <td>731</td>\n",
       "    </tr>\n",
       "    <tr>\n",
       "      <th>JPN</th>\n",
       "      <td>Japan</td>\n",
       "      <td>False</td>\n",
       "      <td>588</td>\n",
       "    </tr>\n",
       "    <tr>\n",
       "      <th>RU</th>\n",
       "      <td>Russia</td>\n",
       "      <td>True</td>\n",
       "      <td>200</td>\n",
       "    </tr>\n",
       "    <tr>\n",
       "      <th>MOR</th>\n",
       "      <td>Morocco</td>\n",
       "      <td>True</td>\n",
       "      <td>70</td>\n",
       "    </tr>\n",
       "    <tr>\n",
       "      <th>EG</th>\n",
       "      <td>Egypt</td>\n",
       "      <td>True</td>\n",
       "      <td>45</td>\n",
       "    </tr>\n",
       "    <tr>\n",
       "      <th>IN</th>\n",
       "      <td>India</td>\n",
       "      <td>False</td>\n",
       "      <td>18</td>\n",
       "    </tr>\n",
       "  </tbody>\n",
       "</table>\n",
       "</div>"
      ],
      "text/plain": [
       "           country  drives_right  cars_per_cap\n",
       "US   United States          True           809\n",
       "AUS      Australia         False           731\n",
       "JPN          Japan         False           588\n",
       "RU          Russia          True           200\n",
       "MOR        Morocco          True            70\n",
       "EG           Egypt          True            45\n",
       "IN           India         False            18"
      ]
     },
     "execution_count": 27,
     "metadata": {},
     "output_type": "execute_result"
    }
   ],
   "source": [
    "subset = ['cars_per_cap', 'drives_right']\n",
    "cars.sort_values(subset, ascending=[False, True])"
   ]
  },
  {
   "cell_type": "code",
   "execution_count": 34,
   "metadata": {},
   "outputs": [
    {
     "data": {
      "text/html": [
       "<div>\n",
       "<style scoped>\n",
       "    .dataframe tbody tr th:only-of-type {\n",
       "        vertical-align: middle;\n",
       "    }\n",
       "\n",
       "    .dataframe tbody tr th {\n",
       "        vertical-align: top;\n",
       "    }\n",
       "\n",
       "    .dataframe thead th {\n",
       "        text-align: right;\n",
       "    }\n",
       "</style>\n",
       "<table border=\"1\" class=\"dataframe\">\n",
       "  <thead>\n",
       "    <tr style=\"text-align: right;\">\n",
       "      <th></th>\n",
       "      <th>country</th>\n",
       "      <th>drives_right</th>\n",
       "      <th>cars_per_cap</th>\n",
       "    </tr>\n",
       "  </thead>\n",
       "  <tbody>\n",
       "    <tr>\n",
       "      <th>US</th>\n",
       "      <td>United States</td>\n",
       "      <td>True</td>\n",
       "      <td>809</td>\n",
       "    </tr>\n",
       "    <tr>\n",
       "      <th>RU</th>\n",
       "      <td>Russia</td>\n",
       "      <td>True</td>\n",
       "      <td>200</td>\n",
       "    </tr>\n",
       "    <tr>\n",
       "      <th>MOR</th>\n",
       "      <td>Morocco</td>\n",
       "      <td>True</td>\n",
       "      <td>70</td>\n",
       "    </tr>\n",
       "    <tr>\n",
       "      <th>EG</th>\n",
       "      <td>Egypt</td>\n",
       "      <td>True</td>\n",
       "      <td>45</td>\n",
       "    </tr>\n",
       "  </tbody>\n",
       "</table>\n",
       "</div>"
      ],
      "text/plain": [
       "           country  drives_right  cars_per_cap\n",
       "US   United States          True           809\n",
       "RU          Russia          True           200\n",
       "MOR        Morocco          True            70\n",
       "EG           Egypt          True            45"
      ]
     },
     "execution_count": 34,
     "metadata": {},
     "output_type": "execute_result"
    }
   ],
   "source": [
    "drives_right = cars['drives_right'].isin([True])\n",
    "cars[drives_right]"
   ]
  },
  {
   "cell_type": "code",
   "execution_count": 43,
   "metadata": {},
   "outputs": [
    {
     "data": {
      "text/plain": [
       "np.float64(65.0)"
      ]
     },
     "execution_count": 43,
     "metadata": {},
     "output_type": "execute_result"
    }
   ],
   "source": [
    "def pct30(column):\n",
    "    return column.quantile(0.3)\n",
    "\n",
    "cars['cars_per_cap'].agg(pct30)"
   ]
  },
  {
   "cell_type": "code",
   "execution_count": 50,
   "metadata": {},
   "outputs": [
    {
     "data": {
      "text/plain": [
       "US      809\n",
       "AUS    1540\n",
       "JPN    2128\n",
       "IN     2146\n",
       "RU     2346\n",
       "MOR    2416\n",
       "EG     2461\n",
       "Name: cars_per_cap, dtype: int64"
      ]
     },
     "execution_count": 50,
     "metadata": {},
     "output_type": "execute_result"
    }
   ],
   "source": [
    "cars['cars_per_cap'].cumsum() #cumulative sum .cummax() .cummin() .cumprod() .min() .max()"
   ]
  },
  {
   "cell_type": "code",
   "execution_count": 53,
   "metadata": {},
   "outputs": [
    {
     "data": {
      "text/html": [
       "<div>\n",
       "<style scoped>\n",
       "    .dataframe tbody tr th:only-of-type {\n",
       "        vertical-align: middle;\n",
       "    }\n",
       "\n",
       "    .dataframe tbody tr th {\n",
       "        vertical-align: top;\n",
       "    }\n",
       "\n",
       "    .dataframe thead th {\n",
       "        text-align: right;\n",
       "    }\n",
       "</style>\n",
       "<table border=\"1\" class=\"dataframe\">\n",
       "  <thead>\n",
       "    <tr style=\"text-align: right;\">\n",
       "      <th></th>\n",
       "      <th>country</th>\n",
       "      <th>drives_right</th>\n",
       "      <th>cars_per_cap</th>\n",
       "    </tr>\n",
       "  </thead>\n",
       "  <tbody>\n",
       "    <tr>\n",
       "      <th>US</th>\n",
       "      <td>United States</td>\n",
       "      <td>True</td>\n",
       "      <td>809</td>\n",
       "    </tr>\n",
       "    <tr>\n",
       "      <th>AUS</th>\n",
       "      <td>Australia</td>\n",
       "      <td>False</td>\n",
       "      <td>731</td>\n",
       "    </tr>\n",
       "    <tr>\n",
       "      <th>JPN</th>\n",
       "      <td>Japan</td>\n",
       "      <td>False</td>\n",
       "      <td>588</td>\n",
       "    </tr>\n",
       "    <tr>\n",
       "      <th>IN</th>\n",
       "      <td>India</td>\n",
       "      <td>False</td>\n",
       "      <td>18</td>\n",
       "    </tr>\n",
       "    <tr>\n",
       "      <th>RU</th>\n",
       "      <td>Russia</td>\n",
       "      <td>True</td>\n",
       "      <td>200</td>\n",
       "    </tr>\n",
       "    <tr>\n",
       "      <th>MOR</th>\n",
       "      <td>Morocco</td>\n",
       "      <td>True</td>\n",
       "      <td>70</td>\n",
       "    </tr>\n",
       "    <tr>\n",
       "      <th>EG</th>\n",
       "      <td>Egypt</td>\n",
       "      <td>True</td>\n",
       "      <td>45</td>\n",
       "    </tr>\n",
       "  </tbody>\n",
       "</table>\n",
       "</div>"
      ],
      "text/plain": [
       "           country  drives_right  cars_per_cap\n",
       "US   United States          True           809\n",
       "AUS      Australia         False           731\n",
       "JPN          Japan         False           588\n",
       "IN           India         False            18\n",
       "RU          Russia          True           200\n",
       "MOR        Morocco          True            70\n",
       "EG           Egypt          True            45"
      ]
     },
     "execution_count": 53,
     "metadata": {},
     "output_type": "execute_result"
    }
   ],
   "source": [
    "cars.drop_duplicates(subset='country') #distinct values"
   ]
  },
  {
   "cell_type": "code",
   "execution_count": 59,
   "metadata": {},
   "outputs": [
    {
     "data": {
      "text/plain": [
       "drives_right\n",
       "False    0.428571\n",
       "True     0.571429\n",
       "Name: proportion, dtype: float64"
      ]
     },
     "execution_count": 59,
     "metadata": {},
     "output_type": "execute_result"
    }
   ],
   "source": [
    "cars['drives_right'].value_counts(sort=True, ascending=True, normalize=True)"
   ]
  },
  {
   "cell_type": "code",
   "execution_count": 64,
   "metadata": {},
   "outputs": [
    {
     "data": {
      "text/plain": [
       "np.int64(1124)"
      ]
     },
     "execution_count": 64,
     "metadata": {},
     "output_type": "execute_result"
    }
   ],
   "source": [
    "cars[cars['drives_right'] == True]['cars_per_cap'].sum()"
   ]
  },
  {
   "cell_type": "code",
   "execution_count": 65,
   "metadata": {},
   "outputs": [
    {
     "data": {
      "text/plain": [
       "np.int64(1337)"
      ]
     },
     "execution_count": 65,
     "metadata": {},
     "output_type": "execute_result"
    }
   ],
   "source": [
    "cars[cars['drives_right'] == False]['cars_per_cap'].sum()"
   ]
  },
  {
   "cell_type": "code",
   "execution_count": 85,
   "metadata": {},
   "outputs": [
    {
     "data": {
      "text/html": [
       "<div>\n",
       "<style scoped>\n",
       "    .dataframe tbody tr th:only-of-type {\n",
       "        vertical-align: middle;\n",
       "    }\n",
       "\n",
       "    .dataframe tbody tr th {\n",
       "        vertical-align: top;\n",
       "    }\n",
       "\n",
       "    .dataframe thead th {\n",
       "        text-align: right;\n",
       "    }\n",
       "</style>\n",
       "<table border=\"1\" class=\"dataframe\">\n",
       "  <thead>\n",
       "    <tr style=\"text-align: right;\">\n",
       "      <th></th>\n",
       "      <th>min</th>\n",
       "      <th>max</th>\n",
       "      <th>sum</th>\n",
       "    </tr>\n",
       "    <tr>\n",
       "      <th>drives_right</th>\n",
       "      <th></th>\n",
       "      <th></th>\n",
       "      <th></th>\n",
       "    </tr>\n",
       "  </thead>\n",
       "  <tbody>\n",
       "    <tr>\n",
       "      <th>False</th>\n",
       "      <td>18</td>\n",
       "      <td>731</td>\n",
       "      <td>1337</td>\n",
       "    </tr>\n",
       "    <tr>\n",
       "      <th>True</th>\n",
       "      <td>45</td>\n",
       "      <td>809</td>\n",
       "      <td>1124</td>\n",
       "    </tr>\n",
       "  </tbody>\n",
       "</table>\n",
       "</div>"
      ],
      "text/plain": [
       "              min  max   sum\n",
       "drives_right                \n",
       "False          18  731  1337\n",
       "True           45  809  1124"
      ]
     },
     "execution_count": 85,
     "metadata": {},
     "output_type": "execute_result"
    }
   ],
   "source": [
    "cars.groupby('drives_right')['cars_per_cap'].agg(['min', 'max', 'sum'])"
   ]
  },
  {
   "cell_type": "code",
   "execution_count": 89,
   "metadata": {},
   "outputs": [
    {
     "data": {
      "text/html": [
       "<div>\n",
       "<style scoped>\n",
       "    .dataframe tbody tr th:only-of-type {\n",
       "        vertical-align: middle;\n",
       "    }\n",
       "\n",
       "    .dataframe tbody tr th {\n",
       "        vertical-align: top;\n",
       "    }\n",
       "\n",
       "    .dataframe thead tr th {\n",
       "        text-align: left;\n",
       "    }\n",
       "\n",
       "    .dataframe thead tr:last-of-type th {\n",
       "        text-align: right;\n",
       "    }\n",
       "</style>\n",
       "<table border=\"1\" class=\"dataframe\">\n",
       "  <thead>\n",
       "    <tr>\n",
       "      <th></th>\n",
       "      <th>median</th>\n",
       "      <th>mean</th>\n",
       "      <th>min</th>\n",
       "      <th>max</th>\n",
       "    </tr>\n",
       "    <tr>\n",
       "      <th></th>\n",
       "      <th>cars_per_cap</th>\n",
       "      <th>cars_per_cap</th>\n",
       "      <th>cars_per_cap</th>\n",
       "      <th>cars_per_cap</th>\n",
       "    </tr>\n",
       "    <tr>\n",
       "      <th>drives_right</th>\n",
       "      <th></th>\n",
       "      <th></th>\n",
       "      <th></th>\n",
       "      <th></th>\n",
       "    </tr>\n",
       "  </thead>\n",
       "  <tbody>\n",
       "    <tr>\n",
       "      <th>False</th>\n",
       "      <td>588.0</td>\n",
       "      <td>445.666667</td>\n",
       "      <td>18</td>\n",
       "      <td>731</td>\n",
       "    </tr>\n",
       "    <tr>\n",
       "      <th>True</th>\n",
       "      <td>135.0</td>\n",
       "      <td>281.000000</td>\n",
       "      <td>45</td>\n",
       "      <td>809</td>\n",
       "    </tr>\n",
       "    <tr>\n",
       "      <th>All</th>\n",
       "      <td>200.0</td>\n",
       "      <td>351.571429</td>\n",
       "      <td>18</td>\n",
       "      <td>809</td>\n",
       "    </tr>\n",
       "  </tbody>\n",
       "</table>\n",
       "</div>"
      ],
      "text/plain": [
       "                   median         mean          min          max\n",
       "             cars_per_cap cars_per_cap cars_per_cap cars_per_cap\n",
       "drives_right                                                    \n",
       "False               588.0   445.666667           18          731\n",
       "True                135.0   281.000000           45          809\n",
       "All                 200.0   351.571429           18          809"
      ]
     },
     "execution_count": 89,
     "metadata": {},
     "output_type": "execute_result"
    }
   ],
   "source": [
    "cars.pivot_table(values='cars_per_cap', index='drives_right', aggfunc=['median', 'mean', 'min', 'max'], fill_value=0, margins=True) #aggfunc=np.mean, np.max, np.min (columns='country')"
   ]
  },
  {
   "cell_type": "code",
   "execution_count": 17,
   "metadata": {},
   "outputs": [
    {
     "data": {
      "text/plain": [
       "Index(['country', 'drives_right', 'cars_per_cap'], dtype='object')"
      ]
     },
     "execution_count": 17,
     "metadata": {},
     "output_type": "execute_result"
    }
   ],
   "source": [
    "cars.columns"
   ]
  },
  {
   "cell_type": "code",
   "execution_count": 11,
   "metadata": {},
   "outputs": [
    {
     "name": "stdout",
     "output_type": "stream",
     "text": [
      "<class 'pandas.core.frame.DataFrame'>\n",
      "Index: 7 entries, US to EG\n",
      "Data columns (total 3 columns):\n",
      " #   Column        Non-Null Count  Dtype \n",
      "---  ------        --------------  ----- \n",
      " 0   country       7 non-null      object\n",
      " 1   drives_right  7 non-null      bool  \n",
      " 2   cars_per_cap  7 non-null      int64 \n",
      "dtypes: bool(1), int64(1), object(1)\n",
      "memory usage: 175.0+ bytes\n"
     ]
    },
    {
     "data": {
      "text/plain": [
       "(7, 3)"
      ]
     },
     "execution_count": 11,
     "metadata": {},
     "output_type": "execute_result"
    }
   ],
   "source": [
    "cars.info()\n",
    "cars.shape"
   ]
  },
  {
   "cell_type": "code",
   "execution_count": 12,
   "metadata": {},
   "outputs": [
    {
     "data": {
      "text/plain": [
       "<bound method NDFrame.head of            country  drives_right  cars_per_cap\n",
       "US   United States          True           809\n",
       "AUS      Australia         False           731\n",
       "JPN          Japan         False           588\n",
       "IN           India         False            18\n",
       "RU          Russia          True           200\n",
       "MOR        Morocco          True            70\n",
       "EG           Egypt          True            45>"
      ]
     },
     "execution_count": 12,
     "metadata": {},
     "output_type": "execute_result"
    }
   ],
   "source": [
    "cars.head"
   ]
  }
 ],
 "metadata": {
  "kernelspec": {
   "display_name": "Python 3",
   "language": "python",
   "name": "python3"
  },
  "language_info": {
   "codemirror_mode": {
    "name": "ipython",
    "version": 3
   },
   "file_extension": ".py",
   "mimetype": "text/x-python",
   "name": "python",
   "nbconvert_exporter": "python",
   "pygments_lexer": "ipython3",
   "version": "3.12.4"
  }
 },
 "nbformat": 4,
 "nbformat_minor": 2
}
