{
 "cells": [
  {
   "cell_type": "code",
   "execution_count": 78,
   "metadata": {},
   "outputs": [],
   "source": [
    "import matplotlib.pyplot as plt\n",
    "import pandas as pd\n",
    "import numpy as np\n",
    "import statistics as st\n",
    "from scipy.stats import iqr"
   ]
  },
  {
   "cell_type": "code",
   "execution_count": null,
   "metadata": {},
   "outputs": [
    {
     "data": {
      "image/png": "[encoded data removed]",
      "text/plain": [
       "<Figure size 640x480 with 1 Axes>"
      ]
     },
     "metadata": {},
     "output_type": "display_data"
    },
    {
     "name": "stdout",
     "output_type": "stream",
     "text": [
      "mean      37.591615\n",
      "median    15.200000\n",
      "Name: co2_emission, dtype: float64\n"
     ]
    }
   ],
   "source": [
    "food = pd.read_csv('food.csv')\n",
    "rice = food[food['food_category'] == 'rice']\n",
    "plt.hist(rice['co2_emission'])\n",
    "plt.show()\n",
    "print(rice['co2_emission'].agg(['mean', 'median']))"
   ]
  },
  {
   "cell_type": "code",
   "execution_count": 70,
   "metadata": {},
   "outputs": [
    {
     "name": "stdout",
     "output_type": "stream",
     "text": [
      "Unnamed: 0       2281.376243\n",
      "country          2281.376243\n",
      "food_category    2281.376243\n",
      "consumption      2281.376243\n",
      "co2_emission     2281.376243\n",
      "dtype: float64\n",
      "Unnamed: 0       47.763754\n",
      "country          47.763754\n",
      "food_category    47.763754\n",
      "consumption      47.763754\n",
      "co2_emission     47.763754\n",
      "dtype: float64\n"
     ]
    }
   ],
   "source": [
    "dists = rice['co2_emission'] - np.mean(rice['co2_emission'])\n",
    "dists = dists ** 2\n",
    "dists_sum = np.sum(dists)\n",
    "vars = dists_sum / (rice.count() - 1)\n",
    "print(vars) #variance\n",
    "print(vars ** 0.5) #standard deviation"
   ]
  },
  {
   "cell_type": "code",
   "execution_count": 71,
   "metadata": {},
   "outputs": [
    {
     "name": "stdout",
     "output_type": "stream",
     "text": [
      "2281.3762431067385 47.763754491316305\n"
     ]
    }
   ],
   "source": [
    "#the more variance the more spread out the data is\n",
    "var_co2 = np.var(rice['co2_emission'], ddof=1) #ddof=1 is used to calculate var/std by using sample population\n",
    "std_co2 = np.std(rice['co2_emission'], ddof=1)\n",
    "print(var_co2, std_co2)"
   ]
  },
  {
   "cell_type": "code",
   "execution_count": 72,
   "metadata": {},
   "outputs": [
    {
     "name": "stdout",
     "output_type": "stream",
     "text": [
      "35.74377514792899\n"
     ]
    }
   ],
   "source": [
    "dists = rice['co2_emission'] - np.mean(rice['co2_emission'])\n",
    "mean_abs_dev = np.mean(abs(dists))\n",
    "print(mean_abs_dev) \n",
    "#std uses squares distances, so further the variable the bigger the deviation\n",
    "#mean absolute deviation penalizes equally, yet SD is more common that MAD"
   ]
  },
  {
   "cell_type": "code",
   "execution_count": 76,
   "metadata": {},
   "outputs": [
    {
     "name": "stdout",
     "output_type": "stream",
     "text": [
      "15.2\n",
      "[  1.22     6.0425  15.2     55.5925 219.76  ]\n"
     ]
    },
    {
     "data": {
      "image/png": "[encoded data removed]",
      "text/plain": [
       "<Figure size 640x480 with 1 Axes>"
      ]
     },
     "metadata": {},
     "output_type": "display_data"
    }
   ],
   "source": [
    "#quantiles\n",
    "half = np.quantile(rice['co2_emission'], 0.5)\n",
    "print(half) #50% of pop emit co2 less than 15.2 0.5 quantile = median\n",
    "quartiles = np.quantile(rice['co2_emission'], [0, 0.25, 0.5, 0.75, 1])\n",
    "quartiles = np.quantile(rice['co2_emission'], np.linspace(0, 1, 5)) #those two are the same where linspace(start, end, num)\n",
    "print(quartiles) #these are quartiles\n",
    "plt.boxplot(rice['co2_emission'])\n",
    "plt.show()"
   ]
  },
  {
   "cell_type": "code",
   "execution_count": 80,
   "metadata": {},
   "outputs": [
    {
     "name": "stdout",
     "output_type": "stream",
     "text": [
      "49.55\n"
     ]
    }
   ],
   "source": [
    "#Interquantile range IQR\n",
    "co2_iqr = np.quantile(rice['co2_emission'], 0.75) - np.quantile(rice['co2_emission'], 0.25)\n",
    "print(co2_iqr) #distance between Q3 and Q1"
   ]
  },
  {
   "cell_type": "code",
   "execution_count": 86,
   "metadata": {},
   "outputs": [
    {
     "data": {
      "text/html": [
       "<div>\n",
       "<style scoped>\n",
       "    .dataframe tbody tr th:only-of-type {\n",
       "        vertical-align: middle;\n",
       "    }\n",
       "\n",
       "    .dataframe tbody tr th {\n",
       "        vertical-align: top;\n",
       "    }\n",
       "\n",
       "    .dataframe thead th {\n",
       "        text-align: right;\n",
       "    }\n",
       "</style>\n",
       "<table border=\"1\" class=\"dataframe\">\n",
       "  <thead>\n",
       "    <tr style=\"text-align: right;\">\n",
       "      <th></th>\n",
       "      <th>Unnamed: 0</th>\n",
       "      <th>country</th>\n",
       "      <th>food_category</th>\n",
       "      <th>consumption</th>\n",
       "      <th>co2_emission</th>\n",
       "    </tr>\n",
       "  </thead>\n",
       "  <tbody>\n",
       "    <tr>\n",
       "      <th>1174</th>\n",
       "      <td>1175</td>\n",
       "      <td>Vietnam</td>\n",
       "      <td>rice</td>\n",
       "      <td>144.56</td>\n",
       "      <td>184.99</td>\n",
       "    </tr>\n",
       "    <tr>\n",
       "      <th>1196</th>\n",
       "      <td>1197</td>\n",
       "      <td>Myanmar</td>\n",
       "      <td>rice</td>\n",
       "      <td>132.80</td>\n",
       "      <td>169.94</td>\n",
       "    </tr>\n",
       "    <tr>\n",
       "      <th>1240</th>\n",
       "      <td>1241</td>\n",
       "      <td>Madagascar</td>\n",
       "      <td>rice</td>\n",
       "      <td>102.53</td>\n",
       "      <td>131.21</td>\n",
       "    </tr>\n",
       "    <tr>\n",
       "      <th>1295</th>\n",
       "      <td>1296</td>\n",
       "      <td>Philippines</td>\n",
       "      <td>rice</td>\n",
       "      <td>119.44</td>\n",
       "      <td>152.85</td>\n",
       "    </tr>\n",
       "    <tr>\n",
       "      <th>1350</th>\n",
       "      <td>1351</td>\n",
       "      <td>Thailand</td>\n",
       "      <td>rice</td>\n",
       "      <td>114.57</td>\n",
       "      <td>146.62</td>\n",
       "    </tr>\n",
       "    <tr>\n",
       "      <th>1372</th>\n",
       "      <td>1373</td>\n",
       "      <td>Cambodia</td>\n",
       "      <td>rice</td>\n",
       "      <td>159.10</td>\n",
       "      <td>203.60</td>\n",
       "    </tr>\n",
       "    <tr>\n",
       "      <th>1383</th>\n",
       "      <td>1384</td>\n",
       "      <td>Sierra Leone</td>\n",
       "      <td>rice</td>\n",
       "      <td>103.30</td>\n",
       "      <td>132.19</td>\n",
       "    </tr>\n",
       "    <tr>\n",
       "      <th>1394</th>\n",
       "      <td>1395</td>\n",
       "      <td>Sri Lanka</td>\n",
       "      <td>rice</td>\n",
       "      <td>109.72</td>\n",
       "      <td>140.41</td>\n",
       "    </tr>\n",
       "    <tr>\n",
       "      <th>1405</th>\n",
       "      <td>1406</td>\n",
       "      <td>Indonesia</td>\n",
       "      <td>rice</td>\n",
       "      <td>134.62</td>\n",
       "      <td>172.27</td>\n",
       "    </tr>\n",
       "    <tr>\n",
       "      <th>1427</th>\n",
       "      <td>1428</td>\n",
       "      <td>Bangladesh</td>\n",
       "      <td>rice</td>\n",
       "      <td>171.73</td>\n",
       "      <td>219.76</td>\n",
       "    </tr>\n",
       "  </tbody>\n",
       "</table>\n",
       "</div>"
      ],
      "text/plain": [
       "      Unnamed: 0       country food_category  consumption  co2_emission\n",
       "1174        1175       Vietnam          rice       144.56        184.99\n",
       "1196        1197       Myanmar          rice       132.80        169.94\n",
       "1240        1241    Madagascar          rice       102.53        131.21\n",
       "1295        1296   Philippines          rice       119.44        152.85\n",
       "1350        1351      Thailand          rice       114.57        146.62\n",
       "1372        1373      Cambodia          rice       159.10        203.60\n",
       "1383        1384  Sierra Leone          rice       103.30        132.19\n",
       "1394        1395     Sri Lanka          rice       109.72        140.41\n",
       "1405        1406     Indonesia          rice       134.62        172.27\n",
       "1427        1428    Bangladesh          rice       171.73        219.76"
      ]
     },
     "execution_count": 86,
     "metadata": {},
     "output_type": "execute_result"
    }
   ],
   "source": [
    "#outliers\n",
    "#data less than Q1 - 1.5*IQR or data more than Q3 + 1.5*IQR\n",
    "co2_iqr = iqr(rice['co2_emission'])\n",
    "lower = np.quantile(rice['co2_emission'], 0.25) - 1.5 * co2_iqr\n",
    "upper = np.quantile(rice['co2_emission'], 0.75) + 1.5 * co2_iqr\n",
    "outliers = rice[(rice['co2_emission'] < lower) | (rice['co2_emission'] > upper)]\n",
    "outliers #those are outliers"
   ]
  },
  {
   "cell_type": "code",
   "execution_count": 88,
   "metadata": {},
   "outputs": [
    {
     "data": {
      "text/plain": [
       "count    130.000000\n",
       "mean      37.591615\n",
       "std       47.763754\n",
       "min        1.220000\n",
       "25%        6.042500\n",
       "50%       15.200000\n",
       "75%       55.592500\n",
       "max      219.760000\n",
       "Name: co2_emission, dtype: float64"
      ]
     },
     "execution_count": 88,
     "metadata": {},
     "output_type": "execute_result"
    }
   ],
   "source": [
    "rice['co2_emission'].describe() #those are the same stuff as everything above"
   ]
  },
  {
   "cell_type": "code",
   "execution_count": 90,
   "metadata": {},
   "outputs": [
    {
     "name": "stdout",
     "output_type": "stream",
     "text": [
      "                        var         std\n",
      "food_category                          \n",
      "beef           88748.408132  297.906710\n",
      "dairy          17671.891985  132.935669\n",
      "eggs              21.371819    4.622966\n",
      "fish             921.637349   30.358481\n",
      "lamb_goat      16475.518363  128.356996\n",
      "nuts              35.639652    5.969895\n",
      "pork            3094.963537   55.632396\n",
      "poultry          245.026801   15.653332\n",
      "rice            2281.376243   47.763754\n",
      "soybeans           0.879882    0.938020\n",
      "wheat             71.023937    8.427570\n"
     ]
    },
    {
     "data": {
      "image/png": "[encoded data removed]",
      "text/plain": [
       "<Figure size 640x480 with 1 Axes>"
      ]
     },
     "metadata": {},
     "output_type": "display_data"
    },
    {
     "data": {
      "image/png": "[encoded data removed]",
      "text/plain": [
       "<Figure size 640x480 with 1 Axes>"
      ]
     },
     "metadata": {},
     "output_type": "display_data"
    }
   ],
   "source": [
    "# Print variance and sd of co2_emission for each food_category\n",
    "print(food.groupby('food_category')['co2_emission'].agg(['var', 'std']))\n",
    "\n",
    "# Create histogram of co2_emission for food_category 'beef'\n",
    "food[food['food_category'] == 'beef']['co2_emission'].hist()\n",
    "plt.show()\n",
    "\n",
    "# Create histogram of co2_emission for food_category 'eggs'\n",
    "food[food['food_category'] == 'eggs']['co2_emission'].hist()\n",
    "plt.show()"
   ]
  },
  {
   "cell_type": "code",
   "execution_count": 93,
   "metadata": {},
   "outputs": [
    {
     "name": "stdout",
     "output_type": "stream",
     "text": [
      "country\n",
      "Argentina    2172.4\n",
      "Name: co2_emission, dtype: float64\n"
     ]
    }
   ],
   "source": [
    "# Calculate total co2_emission per country: emissions_by_country\n",
    "emissions_by_country = food.groupby('country')['co2_emission'].sum()\n",
    "\n",
    "# Compute the first and third quantiles and IQR of emissions_by_country\n",
    "q1 = np.quantile(emissions_by_country, 0.25)\n",
    "q3 = np.quantile(emissions_by_country, 0.75)\n",
    "iqr = q3 - q1\n",
    "\n",
    "# Calculate the lower and upper cutoffs for outliers\n",
    "lower = q1 - 1.5 * iqr\n",
    "upper = q3 + 1.5 * iqr\n",
    "\n",
    "# Subset emissions_by_country to find outliers\n",
    "outliers = emissions_by_country[(emissions_by_country < lower) | (emissions_by_country > upper)]\n",
    "print(outliers)"
   ]
  }
 ],
 "metadata": {
  "kernelspec": {
   "display_name": "Python 3",
   "language": "python",
   "name": "python3"
  },
  "language_info": {
   "codemirror_mode": {
    "name": "ipython",
    "version": 3
   },
   "file_extension": ".py",
   "mimetype": "text/x-python",
   "name": "python",
   "nbconvert_exporter": "python",
   "pygments_lexer": "ipython3",
   "version": "3.12.4"
  }
 },
 "nbformat": 4,
 "nbformat_minor": 2
}
